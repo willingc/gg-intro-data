{
 "cells": [
  {
   "cell_type": "markdown",
   "metadata": {},
   "source": [
    "# Intro to Scientific Programming with Python"
   ]
  },
  {
   "cell_type": "markdown",
   "metadata": {},
   "source": [
    "## PyLadies San Diego \n",
    "##at GeekGirl Tech Conference\n",
    "##San Diego, June 2015."
   ]
  },
  {
   "cell_type": "markdown",
   "metadata": {
    "collapsed": true
   },
   "source": [
    "##Carol Willing\n",
    "\n",
    "- Willing Consulting, Developer  https://willingconsulting.com\n",
    "- Fab Lab San Diego, Geek in Residence https://fablabsd.org\n",
    "- Python Software Foundation, Director https://python.org\n",
    "\n",
    "- GitHub: willingc, Twitter: @willingcarol"
   ]
  },
  {
   "cell_type": "markdown",
   "metadata": {},
   "source": [
    "## Remember the tortoise and the hare?\n",
    "Turtles in Python"
   ]
  },
  {
   "cell_type": "code",
   "execution_count": null,
   "metadata": {
    "collapsed": true
   },
   "outputs": [],
   "source": [
    "# From Python Standard Library Documentation\n",
    "from turtle import *\n",
    "color('red', 'yellow')\n",
    "begin_fill()\n",
    "while True:\n",
    "    forward(200)\n",
    "    left(170)\n",
    "    if abs(pos()) < 1:\n",
    "        break\n",
    "end_fill()\n",
    "done()"
   ]
  },
  {
   "cell_type": "code",
   "execution_count": null,
   "metadata": {
    "collapsed": false
   },
   "outputs": [],
   "source": [
    "from turtle import *\n",
    "color('blue', 'green')\n",
    "begin_fill()\n",
    "while True:\n",
    "    forward(200)\n",
    "    left(170)\n",
    "    if abs(pos()) < 1:\n",
    "        break\n",
    "end_fill()\n",
    "done()"
   ]
  },
  {
   "cell_type": "code",
   "execution_count": null,
   "metadata": {
    "collapsed": true
   },
   "outputs": [],
   "source": [
    "# http://www.greenteapress.com/thinkpython/thinkpython.html"
   ]
  },
  {
   "cell_type": "markdown",
   "metadata": {},
   "source": [
    "## Images\n",
    "Machine learning sci-kit-image"
   ]
  },
  {
   "cell_type": "code",
   "execution_count": null,
   "metadata": {
    "collapsed": true
   },
   "outputs": [],
   "source": [
    "# Set up\n",
    "import numpy as np\n",
    "import matplotlib.pyplot as plt\n",
    "import skimage.exposure as skie\n",
    "%matplotlib inline"
   ]
  },
  {
   "cell_type": "code",
   "execution_count": null,
   "metadata": {
    "collapsed": true
   },
   "outputs": [],
   "source": [
    "# Gather data\n",
    "img = plt.imread('piespot.jpg')[...,0]"
   ]
  },
  {
   "cell_type": "code",
   "execution_count": null,
   "metadata": {
    "collapsed": true
   },
   "outputs": [],
   "source": [
    "# Display visual function\n",
    "def show(img):\n",
    "    plt.subplot(121)\n",
    "    plt.imshow(img, cmap=plt.cm.gray)\n",
    "    plt.axis('off')\n",
    "    plt.subplot(122)\n",
    "    plt.hist(img.ravel(), lw=0, bins=256)\n",
    "    plt.xlim(0, img.max())\n",
    "    plt.yticks([])\n",
    "    plt.show()"
   ]
  },
  {
   "cell_type": "code",
   "execution_count": null,
   "metadata": {
    "collapsed": false
   },
   "outputs": [],
   "source": [
    "# Share - Display visual\n",
    "show(img)"
   ]
  },
  {
   "cell_type": "code",
   "execution_count": null,
   "metadata": {
    "collapsed": false
   },
   "outputs": [],
   "source": [
    "# Analyze\n",
    "show(skie.rescale_intensity(img,\n",
    "                           in_range=(100, 240), out_range=(0, 255)))"
   ]
  },
  {
   "cell_type": "code",
   "execution_count": null,
   "metadata": {
    "collapsed": false
   },
   "outputs": [],
   "source": [
    "# Share - Display visual\n",
    "show(skie.equalize_adapthist(img))"
   ]
  },
  {
   "cell_type": "code",
   "execution_count": null,
   "metadata": {
    "collapsed": true
   },
   "outputs": [],
   "source": [
    "# Set up\n",
    "import numpy as np\n",
    "import matplotlib.pyplot as plt\n",
    "import skimage\n",
    "import skimage.filter as skif\n",
    "import skimage.data as skid\n",
    "%matplotlib inline"
   ]
  },
  {
   "cell_type": "code",
   "execution_count": null,
   "metadata": {
    "collapsed": true
   },
   "outputs": [],
   "source": [
    "\n",
    "def show_gray(img):\n",
    "    plt.imshow(img, cmap=plt.cm.gray)\n",
    "    plt.axis('off')\n",
    "    plt.show()"
   ]
  },
  {
   "cell_type": "code",
   "execution_count": null,
   "metadata": {
    "collapsed": false
   },
   "outputs": [],
   "source": [
    "img = skimage.img_as_float(('piespot.jpg'), True)[...,0]"
   ]
  },
  {
   "cell_type": "markdown",
   "metadata": {},
   "source": [
    "##Music \n",
    "inspired by Cyrille Rossant's Piano example"
   ]
  },
  {
   "cell_type": "code",
   "execution_count": 7,
   "metadata": {
    "collapsed": false
   },
   "outputs": [
    {
     "name": "stderr",
     "output_type": "stream",
     "text": [
      ":0: FutureWarning: IPython widgets are experimental and may change in the future.\n"
     ]
    }
   ],
   "source": [
    "import numpy as np\n",
    "import matplotlib.pyplot as plt\n",
    "from IPython.display import (Audio, display, clear_output)\n",
    "from IPython.html import widgets\n",
    "from functools import partial\n",
    "%matplotlib inline"
   ]
  },
  {
   "cell_type": "code",
   "execution_count": 24,
   "metadata": {
    "collapsed": true
   },
   "outputs": [],
   "source": [
    "# Gather data\n",
    "rate = 16000.\n",
    "duration = 0.25\n",
    "t = np.linspace(0., duration, rate * duration)"
   ]
  },
  {
   "cell_type": "code",
   "execution_count": 25,
   "metadata": {
    "collapsed": true
   },
   "outputs": [],
   "source": [
    "# Analyze\n",
    "def synth(f):\n",
    "    x = np.sin(f * 2. * np.pi * t)\n",
    "    display(Audio(x, rate=rate, autoplay=True))"
   ]
  },
  {
   "cell_type": "code",
   "execution_count": 26,
   "metadata": {
    "collapsed": false
   },
   "outputs": [
    {
     "data": {
      "text/html": [
       "\n",
       "                <audio controls=\"controls\" autoplay=\"autoplay\">\n",
       "                    <source src=\"data:audio/wav;base64,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\" type=\"audio/wav\" />\n",
       "                    Your browser does not support the audio element.\n",
       "                </audio>\n",
       "              "
      ],
      "text/plain": [
       "<IPython.lib.display.Audio object>"
      ]
     },
     "metadata": {},
     "output_type": "display_data"
    }
   ],
   "source": [
    "# Display - Play audio\n",
    "synth(440)"
   ]
  },
  {
   "cell_type": "code",
   "execution_count": 27,
   "metadata": {
    "collapsed": true
   },
   "outputs": [],
   "source": [
    "# Gather and Analyze\n",
    "notes = zip(('C,C#,D,D#,E,F,F#,G,G#,'\n",
    "            'A,A#,B,C').split(','),\n",
    "            440. * 2 ** (np.arange(3, 17) / 12.))"
   ]
  },
  {
   "cell_type": "code",
   "execution_count": 23,
   "metadata": {
    "collapsed": false
   },
   "outputs": [
    {
     "data": {
      "text/html": [
       "\n",
       "                <audio controls=\"controls\" autoplay=\"autoplay\">\n",
       "                    <source src=\"data:audio/wav;base64,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\" type=\"audio/wav\" />\n",
       "                    Your browser does not support the audio element.\n",
       "                </audio>\n",
       "              "
      ],
      "text/plain": [
       "<IPython.lib.display.Audio object>"
      ]
     },
     "metadata": {},
     "output_type": "display_data"
    }
   ],
   "source": [
    "# Display\n",
    "my_box = widgets.Box()\n",
    "buttons = []\n",
    "for note, f in notes:\n",
    "    button = widgets.Button(description=note)\n",
    "    def on_button_clicked(f, b):\n",
    "        clear_output()\n",
    "        synth(f)\n",
    "    button.on_click(partial(on_button_clicked, f))\n",
    "    button.width = '30px'\n",
    "    button.height = '60px'\n",
    "    button.padding = '0'\n",
    "    button.color = ('black', 'white')['#' in note]\n",
    "    button.background_color = ('white', 'black')['#' in note]\n",
    "    button.border_color = 'black'\n",
    "    button.border_style = 'solid'\n",
    "    button.border_width = '1px'\n",
    "    buttons.append(button)\n",
    "my_box.children = buttons\n",
    "display(my_box)"
   ]
  },
  {
   "cell_type": "code",
   "execution_count": 30,
   "metadata": {
    "collapsed": true
   },
   "outputs": [],
   "source": [
    "# Change the duration of the note\n",
    "# Quarter notes"
   ]
  },
  {
   "cell_type": "markdown",
   "metadata": {},
   "source": [
    "Interactive teaching\n",
    "Lorena Barba"
   ]
  },
  {
   "cell_type": "markdown",
   "metadata": {},
   "source": [
    "http://nbviewer.ipython.org/github/numerical-mooc/numerical-mooc/blob/master/lessons/01_phugoid/01_01_Phugoid_Theory.ipynb\n"
   ]
  },
  {
   "cell_type": "code",
   "execution_count": 31,
   "metadata": {
    "collapsed": false
   },
   "outputs": [
    {
     "ename": "ImportError",
     "evalue": "No module named 'rdkit'",
     "output_type": "error",
     "traceback": [
      "\u001b[0;31m---------------------------------------------------------------------------\u001b[0m",
      "\u001b[0;31mImportError\u001b[0m                               Traceback (most recent call last)",
      "\u001b[0;32m<ipython-input-31-d923d2791a2f>\u001b[0m in \u001b[0;36m<module>\u001b[0;34m()\u001b[0m\n\u001b[0;32m----> 1\u001b[0;31m \u001b[0;32mfrom\u001b[0m \u001b[0mrdkit\u001b[0m \u001b[0;32mimport\u001b[0m \u001b[0mChem\u001b[0m\u001b[0;34m\u001b[0m\u001b[0m\n\u001b[0m\u001b[1;32m      2\u001b[0m \u001b[0;32mfrom\u001b[0m \u001b[0mrdkit\u001b[0m\u001b[0;34m.\u001b[0m\u001b[0mChem\u001b[0m\u001b[0;34m.\u001b[0m\u001b[0mDraw\u001b[0m \u001b[0;32mimport\u001b[0m \u001b[0mIPythonConsole\u001b[0m\u001b[0;34m\u001b[0m\u001b[0m\n\u001b[1;32m      3\u001b[0m \u001b[0;32mfrom\u001b[0m \u001b[0mrdkit\u001b[0m\u001b[0;34m.\u001b[0m\u001b[0mChem\u001b[0m \u001b[0;32mimport\u001b[0m \u001b[0mDraw\u001b[0m\u001b[0;34m\u001b[0m\u001b[0m\n",
      "\u001b[0;31mImportError\u001b[0m: No module named 'rdkit'"
     ]
    }
   ],
   "source": [
    "from rdkit import Chem\n",
    "from rdkit.Chem.Draw import IPythonConsole\n",
    "from rdkit.Chem import Draw\n"
   ]
  },
  {
   "cell_type": "markdown",
   "metadata": {},
   "source": [
    "##Web scraping"
   ]
  },
  {
   "cell_type": "code",
   "execution_count": 2,
   "metadata": {
    "collapsed": false
   },
   "outputs": [
    {
     "name": "stdout",
     "output_type": "stream",
     "text": [
      "<h1 class=\"site-title\">\n",
      "<a href=\"https://willingconsulting.com/\" rel=\"home\">Willing Consulting</a>\n",
      "</h1>\n"
     ]
    }
   ],
   "source": [
    "from urllib.request import urlopen\n",
    "from bs4 import BeautifulSoup\n",
    "html = urlopen(\"http://www.willingconsulting.com\")\n",
    "bsObj = BeautifulSoup(html.read());\n",
    "print(bsObj.h1)"
   ]
  },
  {
   "cell_type": "code",
   "execution_count": 4,
   "metadata": {
    "collapsed": false
   },
   "outputs": [
    {
     "name": "stdout",
     "output_type": "stream",
     "text": [
      "<h2 class=\"site-description\">Learn. Build. Share. — Openly</h2>\n"
     ]
    }
   ],
   "source": [
    "print(bsObj.h2)"
   ]
  },
  {
   "cell_type": "code",
   "execution_count": 9,
   "metadata": {
    "collapsed": false
   },
   "outputs": [
    {
     "name": "stdout",
     "output_type": "stream",
     "text": [
      "<h2>Most Requested Links</h2>\n"
     ]
    }
   ],
   "source": [
    "html = urlopen(\"http://sandiego.gov\")\n",
    "bsObj = BeautifulSoup(html.read())\n",
    "print(bsObj.h2)"
   ]
  },
  {
   "cell_type": "code",
   "execution_count": 10,
   "metadata": {
    "collapsed": false
   },
   "outputs": [
    {
     "name": "stdout",
     "output_type": "stream",
     "text": [
      "<h4 style=\"text-transform: none;\">Faulconer Signs 2016 One San Diego Budget into Law</h4>\n"
     ]
    }
   ],
   "source": [
    "print(bsObj.h4)"
   ]
  },
  {
   "cell_type": "code",
   "execution_count": 16,
   "metadata": {
    "collapsed": false
   },
   "outputs": [
    {
     "name": "stdout",
     "output_type": "stream",
     "text": [
      "<h1 class=\"site-title\">\n",
      "<a href=\"https://willingconsulting.com/\" rel=\"home\">Willing Consulting</a>\n",
      "</h1>\n"
     ]
    }
   ],
   "source": [
    "import requests\n",
    "from bs4 import BeautifulSoup\n",
    "response = requests.get(\"http://www.willingconsulting.com\")\n",
    "c = response.content\n",
    "bsObj = BeautifulSoup(c)\n",
    "print(bsObj.h1)"
   ]
  },
  {
   "cell_type": "code",
   "execution_count": 17,
   "metadata": {
    "collapsed": false
   },
   "outputs": [
    {
     "name": "stdout",
     "output_type": "stream",
     "text": [
      "<!DOCTYPE html>\n",
      "<html lang=\"en-US\">\n",
      "<head>\n",
      "<meta charset=\"utf-8\"/>\n",
      "<meta content=\"IE=edge\" http-equiv=\"X-UA-Compatible\"/>\n",
      "<meta content=\"width=device-width, initial-scale=1\" name=\"viewport\"/>\n",
      "<meta content=\"1.0.0\" name=\"theme-version\"/>\n",
      "<title>Willing Consulting | Learn. Build. Share. — Openly</title>\n",
      "<link href=\"http://gmpg.org/xfn/11\" rel=\"profile\"/>\n",
      "<link href=\"http://willingconsulting.com/xmlrpc.php\" rel=\"pingback\"/>\n",
      "<link href=\"https://willingconsulting.com/feed/\" rel=\"alternate\" title=\"Willing Consulting » Feed\" type=\"application/rss+xml\"/>\n",
      "<link href=\"https://willingconsulting.com/comments/feed/\" rel=\"alternate\" title=\"Willing Consulting » Comments Feed\" type=\"application/rss+xml\"/>\n",
      "<script type=\"text/javascript\">\n",
      "\t\t\twindow._wpemojiSettings = {\"baseUrl\":\"http:\\/\\/s.w.org\\/images\\/core\\/emoji\\/72x72\\/\",\"ext\":\".png\",\"source\":{\"concatemoji\":\"http:\\/\\/willingconsulting.com\\/wp-includes\\/js\\/wp-emoji-release.min.js\"}};\n",
      "\t\t\t!function(a,b,c){function d(a){var c=b.createElement(\"canvas\"),d=c.getContext&&c.getContext(\"2d\");return d&&d.fillText?(d.textBaseline=\"top\",d.font=\"600 32px Arial\",\"flag\"===a?(d.fillText(String.fromCharCode(55356,56812,55356,56807),0,0),c.toDataURL().length>3e3):(d.fillText(String.fromCharCode(55357,56835),0,0),0!==d.getImageData(16,16,1,1).data[0])):!1}function e(a){var c=b.createElement(\"script\");c.src=a,c.type=\"text/javascript\",b.getElementsByTagName(\"head\")[0].appendChild(c)}var f,g;c.supports={simple:d(\"simple\"),flag:d(\"flag\")},c.DOMReady=!1,c.readyCallback=function(){c.DOMReady=!0},c.supports.simple&&c.supports.flag||(g=function(){c.readyCallback()},b.addEventListener?(b.addEventListener(\"DOMContentLoaded\",g,!1),a.addEventListener(\"load\",g,!1)):(a.attachEvent(\"onload\",g),b.attachEvent(\"onreadystatechange\",function(){\"complete\"===b.readyState&&c.readyCallback()})),f=c.source||{},f.concatemoji?e(f.concatemoji):f.wpemoji&&f.twemoji&&(e(f.twemoji),e(f.wpemoji)))}(window,document,window._wpemojiSettings);\n",
      "\t\t</script>\n",
      "<style type=\"text/css\">\n",
      "img.wp-smiley,\n",
      "img.emoji {\n",
      "\tdisplay: inline !important;\n",
      "\tborder: none !important;\n",
      "\tbox-shadow: none !important;\n",
      "\theight: 1em !important;\n",
      "\twidth: 1em !important;\n",
      "\tmargin: 0 .07em !important;\n",
      "\tvertical-align: -0.1em !important;\n",
      "\tbackground: none !important;\n",
      "\tpadding: 0 !important;\n",
      "}\n",
      "</style>\n",
      "<link href=\"http://willingconsulting.com/wp-content/themes/bindery/style.css\" id=\"bindery-style-css\" media=\"all\" rel=\"stylesheet\" type=\"text/css\"/>\n",
      "<link href=\"//fonts.googleapis.com/css?family=Quattrocento+Sans%3A400%2C400italic%2C700italic%2C700%7CVesper+Libre%3A700&amp;subset=latin%2Clatin-ext\" id=\"bindery-webfonts-css\" media=\"all\" rel=\"stylesheet\" type=\"text/css\"/>\n",
      "<script src=\"http://willingconsulting.com/wp-includes/js/jquery/jquery.js\" type=\"text/javascript\"></script>\n",
      "<script src=\"http://willingconsulting.com/wp-includes/js/jquery/jquery-migrate.min.js\" type=\"text/javascript\"></script>\n",
      "<style id=\"bindery-customize-content-link-color\">\n",
      "      a,\n",
      "      .page-header .author .fn,\n",
      "      .attachment-header span {\n",
      "        color: #5087a5;\n",
      "      }\n",
      "\n",
      "      .btn,\n",
      "      button,\n",
      "      input[type=\"button\"],\n",
      "      input[type=\"reset\"],\n",
      "      input[type=\"submit\"],\n",
      "      .navigation-bar,\n",
      "      .portfolio-card-overlay {\n",
      "        background-color: #5087a5;\n",
      "      }\n",
      "    </style><style id=\"bindery-customize-content-active-color\">\n",
      "      a:hover,\n",
      "      a:active,\n",
      "      .entry-title a:hover,\n",
      "      .site-nav-menu a:hover,\n",
      "      .post-navigation a:hover {\n",
      "        color: #444444;\n",
      "      }\n",
      "\n",
      "      .site-nav-menu .parent > a:hover:after {\n",
      "        border-color: #444444 transparent transparent transparent;\n",
      "      }\n",
      "\n",
      "      @media screen and (min-width: 840px) {\n",
      "        .site-nav-menu li .parent > a:hover:after {\n",
      "          border-color: transparent transparent transparent #444444;\n",
      "        }\n",
      "\n",
      "        .rtl .site-nav-menu li .parent > a:hover:after {\n",
      "          border-color: transparent #444444 transparent transparent;\n",
      "        }\n",
      "\n",
      "        .site-nav-menu > a:hover,\n",
      "        .site-nav-menu > .parent.active > a {\n",
      "          color: #444444;\n",
      "        }\n",
      "      }\n",
      "    </style><style id=\"bindery-customize-content-accent-color\">\n",
      "      .entry-title a,\n",
      "      .post-navigation a,\n",
      "      .portfolio .entry-title,\n",
      "      body .singular .intro:first-letter,\n",
      "      .entry-content .jetpack-portfolio-shortcode .portfolio-entry-title,\n",
      "      body #main div#jp-relatedposts div.jp-relatedposts-items .jp-relatedposts-post .jp-relatedposts-post-title a,\n",
      "      body #main div#jp-relatedposts div.jp-relatedposts-items-visual h4.jp-relatedposts-post-title {\n",
      "        color: #a27272;\n",
      "      }\n",
      "    </style></head>\n",
      "<body class=\"home blog group-blog not-singular has-site-title\">\n",
      "<div class=\"hfeed site\" id=\"page\">\n",
      "<header class=\"site-header layout-span\" id=\"masthead\" role=\"banner\">\n",
      "<div class=\"site-nav-toggle\">\n",
      "<a><span class=\"screen-reader-text\">Toggle Menu</span></a>\n",
      "</div>\n",
      "<div class=\"site-header-wrap\">\n",
      "<div class=\"site-header-content\">\n",
      "<div class=\"site-branding\">\n",
      "<div class=\"site-tagline\">\n",
      "<h1 class=\"site-title\">\n",
      "<a href=\"https://willingconsulting.com/\" rel=\"home\">Willing Consulting</a>\n",
      "</h1>\n",
      "<h2 class=\"site-description\">Learn. Build. Share. — Openly</h2>\n",
      "</div>\n",
      "</div>\n",
      "<div class=\"site-nav\"><span class=\"site-nav-title\">Menu</span><ul class=\"site-nav-menu\" role=\"menu\"><li class=\"parent\"><a href=\"https://willingconsulting.com/about/\">About</a><ul><li><a href=\"https://willingconsulting.com/about/bio/\">Bio</a></li><li><a href=\"https://willingconsulting.com/about/education/\">Education</a></li><li><a href=\"https://willingconsulting.com/about/professional-communities/\">Professional Communities</a></li><li><a href=\"https://willingconsulting.com/wow/\">Words</a></li></ul></li><li><a href=\"https://willingconsulting.com/\">Blog</a></li><li><a href=\"https://willingconsulting.com/consulting/\">Consulting</a></li><li><a href=\"https://willingconsulting.com/events/\">Events</a></li><li><a href=\"https://willingconsulting.com/contact/\">Contact</a></li></ul></div>\n",
      "<div class=\"site-filter\">\n",
      "<form action=\"https://willingconsulting.com/\" class=\"search-form\" method=\"get\" role=\"search\">\n",
      "<label>\n",
      "<span class=\"screen-reader-text\">Search for:</span>\n",
      "<input class=\"search-field\" name=\"s\" placeholder=\"Search\" type=\"search\" value=\"\"/>\n",
      "</label>\n",
      "<input class=\"search-submit\" type=\"submit\" value=\"Search\"/>\n",
      "</form>\n",
      "</div>\n",
      "</div>\n",
      "</div>\n",
      "</header>\n",
      "<div class=\"site-content\" id=\"content\">\n",
      "<div class=\"content-area\" id=\"primary\">\n",
      "<main class=\"site-main\" id=\"main\" role=\"main\">\n",
      "<article class=\"entry post-558 post type-post status-publish format-standard has-post-thumbnail hentry category-community-2 category-education category-python-2 category-software category-wisdom tag-brian-curtin tag-distinguished-service-award tag-mark-hammond tag-mission tag-psf tag-python\" id=\"post-558\">\n",
      "<div class=\"entry-main\">\n",
      "<a class=\"entry-thumbnail-link\" href=\"https://willingconsulting.com/mission-moment-hammond/\">\n",
      "<div class=\"entry-thumbnail hidpi-image\" data-src=\"https://willingconsulting.com/wp-content/uploads/2015/06/bouquet-750x563.jpg\" data-src-hidpi=\"https://willingconsulting.com/wp-content/uploads/2015/06/bouquet-1500x1125.jpg\" data-src-width=\"750\">\n",
      "</div>\n",
      "</a>\n",
      "<div class=\"layout-span entry-layout\">\n",
      "<div class=\"layout-entry\">\n",
      "<header class=\"entry-header\">\n",
      "<div class=\"entry-meta\">\n",
      "<div class=\"entry-meta-item published-link\">\n",
      "<a href=\"https://willingconsulting.com/mission-moment-hammond/\" rel=\"bookmark\">\n",
      "<time datetime=\"2015-06-09T13:48:58+00:00\">2015/06/09</time>\n",
      "</a>\n",
      "</div>\n",
      "</div>\n",
      "<h1 class=\"entry-title\">\n",
      "<a href=\"https://willingconsulting.com/mission-moment-hammond/\">Mission moment: Mark Hammond, PSF Distinguished Service Award Recipient</a>\n",
      "</h1>\n",
      "</header>\n",
      "<div class=\"entry-content layout-entry-content\">\n",
      "<p>Today, the Python Software Foundation, commonly known as PSF in the Python community, gave the PSF Distinguished Service Award to Mark Hammond. Brian Curtin, a past PSF Director and long-time communicator of “community” importance, wrote a thoughtful PSF blog post about Mark’s many contributions to our Python community. The wonderful Python community also has itself to thank for allowing this book to come to fruition. The Python newsgroup seems to be one of the final bastions of Usenet where spams<a class=\"entry-more\" href=\"https://willingconsulting.com/mission-moment-hammond/\">Read more</a></p>\n",
      "</div>\n",
      "</div>\n",
      "</div>\n",
      "</div>\n",
      "</article>\n",
      "<article class=\"entry post-541 post type-post status-publish format-standard has-post-thumbnail hentry category-community-2 category-education category-learn category-open-source category-python-2 category-software category-teamwork tag-education tag-psf tag-python tag-pyvideo-org\" id=\"post-541\">\n",
      "<div class=\"entry-main\">\n",
      "<a class=\"entry-thumbnail-link\" href=\"https://willingconsulting.com/play-it-again-pyvideo-org/\">\n",
      "<div class=\"entry-thumbnail hidpi-image\" data-src=\"https://willingconsulting.com/wp-content/uploads/2015/06/2015_02_06_pyladies_cupcake_post-750x608.jpg\" data-src-hidpi=\"https://willingconsulting.com/wp-content/uploads/2015/06/2015_02_06_pyladies_cupcake_post-1500x1215.jpg\" data-src-width=\"750\">\n",
      "</div>\n",
      "</a>\n",
      "<div class=\"layout-span entry-layout\">\n",
      "<div class=\"layout-entry\">\n",
      "<header class=\"entry-header\">\n",
      "<div class=\"entry-meta\">\n",
      "<div class=\"entry-meta-item published-link\">\n",
      "<a href=\"https://willingconsulting.com/play-it-again-pyvideo-org/\" rel=\"bookmark\">\n",
      "<time datetime=\"2015-06-03T07:19:33+00:00\">2015/06/03</time>\n",
      "</a>\n",
      "</div>\n",
      "</div>\n",
      "<h1 class=\"entry-title\">\n",
      "<a href=\"https://willingconsulting.com/play-it-again-pyvideo-org/\">Play it again pyvideo.org!</a>\n",
      "</h1>\n",
      "</header>\n",
      "<div class=\"entry-content layout-entry-content\">\n",
      "<p>Yesterday, the Python Software Foundation posted results of the election for the Board of Directors 2015-2016 term. Thank you to the many individuals that participated and helped with the election. I want take a moment and give special thanks to the 2014-2015 PSF Board for their service and accomplishments. To the retiring PSF Board members, I love programming in Python, learning from others, and sharing pyvideo.org talks. To honor the goodness that each of you bring to the Python community,<a class=\"entry-more\" href=\"https://willingconsulting.com/play-it-again-pyvideo-org/\">Read more</a></p>\n",
      "</div>\n",
      "</div>\n",
      "</div>\n",
      "</div>\n",
      "</article>\n",
      "<article class=\"entry post-528 post type-post status-publish format-standard has-post-thumbnail hentry category-community-2 category-education category-learn category-music tag-communication tag-community tag-joanne-yates tag-mentoring tag-music tag-writespeakcode\" id=\"post-528\">\n",
      "<div class=\"entry-main\">\n",
      "<a class=\"entry-thumbnail-link\" href=\"https://willingconsulting.com/mentors-music-and-motivation/\">\n",
      "<div class=\"entry-thumbnail hidpi-image\" data-src=\"https://willingconsulting.com/wp-content/uploads/2015/03/2013-09-09-11.47.42-750x422.jpg\" data-src-hidpi=\"https://willingconsulting.com/wp-content/uploads/2015/03/2013-09-09-11.47.42-1500x844.jpg\" data-src-width=\"750\">\n",
      "</div>\n",
      "</a>\n",
      "<div class=\"layout-span entry-layout\">\n",
      "<div class=\"layout-entry\">\n",
      "<header class=\"entry-header\">\n",
      "<div class=\"entry-meta\">\n",
      "<div class=\"entry-meta-item published-link\">\n",
      "<a href=\"https://willingconsulting.com/mentors-music-and-motivation/\" rel=\"bookmark\">\n",
      "<time datetime=\"2015-03-18T14:36:03+00:00\">2015/03/18</time>\n",
      "</a>\n",
      "</div>\n",
      "</div>\n",
      "<h1 class=\"entry-title\">\n",
      "<a href=\"https://willingconsulting.com/mentors-music-and-motivation/\">Mentors, music, and motivation</a>\n",
      "</h1>\n",
      "</header>\n",
      "<div class=\"entry-content layout-entry-content\">\n",
      "<p>As I get ready to attend the Write/Speak/Code conference, I’m doing more reflecting on the past few months than packing for the trip. While I would like to leave San Diego with warm enough clothes for New York City, I want to write a few brief thoughts about learning from others. Learning from others is one of the things that I love most about software development. While I enjoy my time quietly working through code on my own, I value<a class=\"entry-more\" href=\"https://willingconsulting.com/mentors-music-and-motivation/\">Read more</a></p>\n",
      "</div>\n",
      "</div>\n",
      "</div>\n",
      "</div>\n",
      "</article>\n",
      "<article class=\"entry post-500 post type-post status-publish format-standard has-post-thumbnail hentry category-community-2 category-education category-learn category-teamwork tag-community tag-fab-lab-san-diego\" id=\"post-500\">\n",
      "<div class=\"entry-main\">\n",
      "<a class=\"entry-thumbnail-link\" href=\"https://willingconsulting.com/building-a-better-community/\">\n",
      "<div class=\"entry-thumbnail hidpi-image\" data-src=\"https://willingconsulting.com/wp-content/uploads/2015/03/fablaboutreach-750x421.jpg\" data-src-hidpi=\"https://willingconsulting.com/wp-content/uploads/2015/03/fablaboutreach.jpg\" data-src-width=\"750\">\n",
      "</div>\n",
      "</a>\n",
      "<div class=\"layout-span entry-layout\">\n",
      "<div class=\"layout-entry\">\n",
      "<header class=\"entry-header\">\n",
      "<div class=\"entry-meta\">\n",
      "<div class=\"entry-meta-item published-link\">\n",
      "<a href=\"https://willingconsulting.com/building-a-better-community/\" rel=\"bookmark\">\n",
      "<time datetime=\"2015-03-04T05:06:46+00:00\">2015/03/04</time>\n",
      "</a>\n",
      "</div>\n",
      "</div>\n",
      "<h1 class=\"entry-title\">\n",
      "<a href=\"https://willingconsulting.com/building-a-better-community/\">Building a better community one person at a time: Fab Lab San Diego</a>\n",
      "</h1>\n",
      "</header>\n",
      "<div class=\"entry-content layout-entry-content\">\n",
      "<p>Why I gave a $2048 donation to Fab Lab San Diego Watching someone bring their idea to life is an amazing reward. People from all walks of life have creative ideas. Through grassroots sharing of ideas, skills, and equipment, Fab Lab San Diego gives individuals a chance to learn, build, and share their creations. I believe Fab Lab San Diego’s outreach programs inspire students of all ages. Outreach is hard work but the community benefits are huge. Please join me<a class=\"entry-more\" href=\"https://willingconsulting.com/building-a-better-community/\">Read more</a></p>\n",
      "</div>\n",
      "</div>\n",
      "</div>\n",
      "</div>\n",
      "</article>\n",
      "<article class=\"entry post-495 post type-post status-publish format-standard has-post-thumbnail hentry category-community-2 category-education category-learn category-open-source category-teamwork category-uncategorized tag-economics tag-education tag-edx tag-open-source-2 tag-security\" id=\"post-495\">\n",
      "<div class=\"entry-main\">\n",
      "<a class=\"entry-thumbnail-link\" href=\"https://willingconsulting.com/security-at-the-seams/\">\n",
      "<div class=\"entry-thumbnail hidpi-image\" data-src=\"https://willingconsulting.com/wp-content/uploads/2015/03/securityguard-e1425307068802-750x740.jpg\" data-src-hidpi=\"https://willingconsulting.com/wp-content/uploads/2015/03/securityguard-1500x2667.jpg\" data-src-width=\"750\">\n",
      "</div>\n",
      "</a>\n",
      "<div class=\"layout-span entry-layout\">\n",
      "<div class=\"layout-entry\">\n",
      "<header class=\"entry-header\">\n",
      "<div class=\"entry-meta\">\n",
      "<div class=\"entry-meta-item published-link\">\n",
      "<a href=\"https://willingconsulting.com/security-at-the-seams/\" rel=\"bookmark\">\n",
      "<time datetime=\"2015-03-02T06:39:03+00:00\">2015/03/02</time>\n",
      "</a>\n",
      "</div>\n",
      "</div>\n",
      "<h1 class=\"entry-title\">\n",
      "<a href=\"https://willingconsulting.com/security-at-the-seams/\">Security at the Seams: What’s a Software Development Manager to Do?</a>\n",
      "</h1>\n",
      "</header>\n",
      "<div class=\"entry-content layout-entry-content\">\n",
      "<p>I recently had the pleasure of taking a new course through edX. The course, DelftX: EconSec101x Economics of Cybersecurity, adeptly illustrates the many economic issues and behaviors that impact security in practice. I highly recommend the course to those interested in economics and security. Here’s my final reflection essay from the course. Economics of Cybersecurity Reflection Essay Security at the Seams: What’s a Software Development Manager to Do? Discussions of security frequently come up in the Open Source Software development<a class=\"entry-more\" href=\"https://willingconsulting.com/security-at-the-seams/\">Read more</a></p>\n",
      "</div>\n",
      "</div>\n",
      "</div>\n",
      "</div>\n",
      "</article>\n",
      "<article class=\"entry post-453 post type-post status-publish format-standard has-post-thumbnail hentry category-learn category-open-source category-python-2 category-uncategorized tag-decorators tag-online-python-tutor tag-phillip-guo tag-python tag-simplicity-2\" id=\"post-453\">\n",
      "<div class=\"entry-main\">\n",
      "<a class=\"entry-thumbnail-link\" href=\"https://willingconsulting.com/decorators-visulized/\">\n",
      "<div class=\"entry-thumbnail hidpi-image\" data-src=\"https://willingconsulting.com/wp-content/uploads/2015/02/Screen-Shot-2015-02-18-at-06.35.33.png\" data-src-hidpi=\"https://willingconsulting.com/wp-content/uploads/2015/02/Screen-Shot-2015-02-18-at-06.35.33.png\" data-src-width=\"750\">\n",
      "</div>\n",
      "</a>\n",
      "<div class=\"layout-span entry-layout\">\n",
      "<div class=\"layout-entry\">\n",
      "<header class=\"entry-header\">\n",
      "<div class=\"entry-meta\">\n",
      "<div class=\"entry-meta-item published-link\">\n",
      "<a href=\"https://willingconsulting.com/decorators-visulized/\" rel=\"bookmark\">\n",
      "<time datetime=\"2015-02-18T06:30:35+00:00\">2015/02/18</time>\n",
      "</a>\n",
      "</div>\n",
      "</div>\n",
      "<h1 class=\"entry-title\">\n",
      "<a href=\"https://willingconsulting.com/decorators-visulized/\">Decorators visualized</a>\n",
      "</h1>\n",
      "</header>\n",
      "<div class=\"entry-content layout-entry-content\">\n",
      "<p>Decorators make code more readable. When learning how decorators work, it’s easy to get confused. When teaching decorators, students often ask “but how does it work” and “why does it work”. Magic, it just does, and follow the pattern of the example could be reasonable though less than satisfying responses. Online Python Tutor Learning to use decorators can be frustrating until the learner understands how decorators work. To build mastery, students want to visualize what the computer is doing when using<a class=\"entry-more\" href=\"https://willingconsulting.com/decorators-visulized/\">Read more</a></p>\n",
      "</div>\n",
      "</div>\n",
      "</div>\n",
      "</div>\n",
      "</article>\n",
      "</main>\n",
      "<nav class=\"navigation paging-navigation layout-span\" role=\"navigation\">\n",
      "<h1 class=\"screen-reader-text\">Posts navigation</h1>\n",
      "<div class=\"nav-links\">\n",
      "<div class=\"nav-next\"><a href=\"https://willingconsulting.com/page/2/\">Next Page <span class=\"meta-nav\">→</span></a></div>\n",
      "</div>\n",
      "</nav>\n",
      "</div>\n",
      "<div class=\"widget-area\" id=\"secondary\" role=\"complementary\">\n",
      "<aside class=\"widget widget_archive\" id=\"archives-6\"><h1 class=\"widget-title\">Archives</h1> <ul>\n",
      "<li><a href=\"https://willingconsulting.com/2015/06/\">June 2015</a></li>\n",
      "<li><a href=\"https://willingconsulting.com/2015/03/\">March 2015</a></li>\n",
      "<li><a href=\"https://willingconsulting.com/2015/02/\">February 2015</a></li>\n",
      "<li><a href=\"https://willingconsulting.com/2015/01/\">January 2015</a></li>\n",
      "<li><a href=\"https://willingconsulting.com/2014/07/\">July 2014</a></li>\n",
      "<li><a href=\"https://willingconsulting.com/2014/06/\">June 2014</a></li>\n",
      "<li><a href=\"https://willingconsulting.com/2014/03/\">March 2014</a></li>\n",
      "<li><a href=\"https://willingconsulting.com/2014/02/\">February 2014</a></li>\n",
      "<li><a href=\"https://willingconsulting.com/2013/12/\">December 2013</a></li>\n",
      "<li><a href=\"https://willingconsulting.com/2013/10/\">October 2013</a></li>\n",
      "<li><a href=\"https://willingconsulting.com/2013/09/\">September 2013</a></li>\n",
      "<li><a href=\"https://willingconsulting.com/2013/08/\">August 2013</a></li>\n",
      "<li><a href=\"https://willingconsulting.com/2013/03/\">March 2013</a></li>\n",
      "<li><a href=\"https://willingconsulting.com/2013/02/\">February 2013</a></li>\n",
      "</ul>\n",
      "</aside><aside class=\"widget widget_tag_cloud\" id=\"tag_cloud-3\"><h1 class=\"widget-title\">Tags</h1><div class=\"tagcloud\"><a class=\"tag-link-15\" href=\"https://willingconsulting.com/tag/3d-printing/\" style=\"font-size: 12.972972973px;\" title=\"2 topics\">3D printing</a>\n",
      "<a class=\"tag-link-23\" href=\"https://willingconsulting.com/tag/ada-initiative/\" style=\"font-size: 13.6216216216px;\" title=\"3 topics\">Ada Initiative</a>\n",
      "<a class=\"tag-link-40\" href=\"https://willingconsulting.com/tag/alasdair-allan/\" style=\"font-size: 12px;\" title=\"1 topic\">Alasdair Allan</a>\n",
      "<a class=\"tag-link-43\" href=\"https://willingconsulting.com/tag/arduino/\" style=\"font-size: 12px;\" title=\"1 topic\">Arduino</a>\n",
      "<a class=\"tag-link-52\" href=\"https://willingconsulting.com/tag/bohemian-gravity/\" style=\"font-size: 12px;\" title=\"1 topic\">bohemian gravity</a>\n",
      "<a class=\"tag-link-49\" href=\"https://willingconsulting.com/tag/candy-chang/\" style=\"font-size: 12px;\" title=\"1 topic\">candy chang</a>\n",
      "<a class=\"tag-link-92\" href=\"https://willingconsulting.com/tag/communication/\" style=\"font-size: 12.972972973px;\" title=\"2 topics\">communication</a>\n",
      "<a class=\"tag-link-53\" href=\"https://willingconsulting.com/tag/community/\" style=\"font-size: 14.1621621622px;\" title=\"4 topics\">community</a>\n",
      "<a class=\"tag-link-9\" href=\"https://willingconsulting.com/tag/create/\" style=\"font-size: 12px;\" title=\"1 topic\">create</a>\n",
      "<a class=\"tag-link-42\" href=\"https://willingconsulting.com/tag/distributed-network-data/\" style=\"font-size: 12px;\" title=\"1 topic\">Distributed Network Data</a>\n",
      "<a class=\"tag-link-26\" href=\"https://willingconsulting.com/tag/education/\" style=\"font-size: 14.972972973px;\" title=\"6 topics\">Education</a>\n",
      "<a class=\"tag-link-19\" href=\"https://willingconsulting.com/tag/edx/\" style=\"font-size: 12.972972973px;\" title=\"2 topics\">edX</a>\n",
      "<a class=\"tag-link-17\" href=\"https://willingconsulting.com/tag/first/\" style=\"font-size: 12px;\" title=\"1 topic\">FIRST</a>\n",
      "<a class=\"tag-link-28\" href=\"https://willingconsulting.com/tag/free/\" style=\"font-size: 12px;\" title=\"1 topic\">Free</a>\n",
      "<a class=\"tag-link-8\" href=\"https://willingconsulting.com/tag/future/\" style=\"font-size: 13.6216216216px;\" title=\"3 topics\">future</a>\n",
      "<a class=\"tag-link-21\" href=\"https://willingconsulting.com/tag/github/\" style=\"font-size: 13.6216216216px;\" title=\"3 topics\">GitHub</a>\n",
      "<a class=\"tag-link-34\" href=\"https://willingconsulting.com/tag/its-up-to-us/\" style=\"font-size: 12px;\" title=\"1 topic\">It's Up to Us</a>\n",
      "<a class=\"tag-link-41\" href=\"https://willingconsulting.com/tag/kipp-bradford/\" style=\"font-size: 12px;\" title=\"1 topic\">Kipp Bradford</a>\n",
      "<a class=\"tag-link-16\" href=\"https://willingconsulting.com/tag/knowledge/\" style=\"font-size: 12px;\" title=\"1 topic\">knowledge</a>\n",
      "<a class=\"tag-link-36\" href=\"https://willingconsulting.com/tag/know-the-signs/\" style=\"font-size: 12px;\" title=\"1 topic\">Know the Signs</a>\n",
      "<a class=\"tag-link-45\" href=\"https://willingconsulting.com/tag/linuxcon/\" style=\"font-size: 12px;\" title=\"1 topic\">linuxcon</a>\n",
      "<a class=\"tag-link-51\" href=\"https://willingconsulting.com/tag/linuxcon-2013/\" style=\"font-size: 12px;\" title=\"1 topic\">linuxcon 2013</a>\n",
      "<a class=\"tag-link-46\" href=\"https://willingconsulting.com/tag/linux-plumbers-conference/\" style=\"font-size: 12px;\" title=\"1 topic\">linux plumbers conference</a>\n",
      "<a class=\"tag-link-14\" href=\"https://willingconsulting.com/tag/lulzbot/\" style=\"font-size: 12px;\" title=\"1 topic\">lulzbot</a>\n",
      "<a class=\"tag-link-31\" href=\"https://willingconsulting.com/tag/mental-health/\" style=\"font-size: 12px;\" title=\"1 topic\">Mental Health</a>\n",
      "<a class=\"tag-link-32\" href=\"https://willingconsulting.com/tag/mindfulness/\" style=\"font-size: 12px;\" title=\"1 topic\">Mindfulness</a>\n",
      "<a class=\"tag-link-27\" href=\"https://willingconsulting.com/tag/mit/\" style=\"font-size: 12.972972973px;\" title=\"2 topics\">MIT</a>\n",
      "<a class=\"tag-link-7\" href=\"https://willingconsulting.com/tag/mom/\" style=\"font-size: 13.6216216216px;\" title=\"3 topics\">mom</a>\n",
      "<a class=\"tag-link-48\" href=\"https://willingconsulting.com/tag/music/\" style=\"font-size: 13.6216216216px;\" title=\"3 topics\">Music</a>\n",
      "<a class=\"tag-link-30\" href=\"https://willingconsulting.com/tag/ocw/\" style=\"font-size: 12px;\" title=\"1 topic\">OCW</a>\n",
      "<a class=\"tag-link-13\" href=\"https://willingconsulting.com/tag/open-source-2/\" style=\"font-size: 15.7837837838px;\" title=\"9 topics\">open source</a>\n",
      "<a class=\"tag-link-110\" href=\"https://willingconsulting.com/tag/psf/\" style=\"font-size: 12.972972973px;\" title=\"2 topics\">psf</a>\n",
      "<a class=\"tag-link-62\" href=\"https://willingconsulting.com/tag/python/\" style=\"font-size: 16px;\" title=\"10 topics\">python</a>\n",
      "<a class=\"tag-link-78\" href=\"https://willingconsulting.com/tag/security/\" style=\"font-size: 12.972972973px;\" title=\"2 topics\">security</a>\n",
      "<a class=\"tag-link-6\" href=\"https://willingconsulting.com/tag/simplicity-2/\" style=\"font-size: 14.1621621622px;\" title=\"4 topics\">simplicity</a>\n",
      "<a class=\"tag-link-35\" href=\"https://willingconsulting.com/tag/suicide-prevention/\" style=\"font-size: 12px;\" title=\"1 topic\">Suicide Prevention</a>\n",
      "<a class=\"tag-link-47\" href=\"https://willingconsulting.com/tag/tea/\" style=\"font-size: 12px;\" title=\"1 topic\">tea</a>\n",
      "<a class=\"tag-link-12\" href=\"https://willingconsulting.com/tag/teamwork-2/\" style=\"font-size: 13.6216216216px;\" title=\"3 topics\">teamwork</a>\n",
      "<a class=\"tag-link-54\" href=\"https://willingconsulting.com/tag/tedx/\" style=\"font-size: 12px;\" title=\"1 topic\">tedx</a>\n",
      "<a class=\"tag-link-50\" href=\"https://willingconsulting.com/tag/the-hics/\" style=\"font-size: 12px;\" title=\"1 topic\">the hics</a>\n",
      "<a class=\"tag-link-33\" href=\"https://willingconsulting.com/tag/ucsd-center-for-mindfulness/\" style=\"font-size: 12px;\" title=\"1 topic\">UCSD Center for Mindfulness</a>\n",
      "<a class=\"tag-link-22\" href=\"https://willingconsulting.com/tag/women/\" style=\"font-size: 14.1621621622px;\" title=\"4 topics\">women</a>\n",
      "<a class=\"tag-link-29\" href=\"https://willingconsulting.com/tag/workforce-return/\" style=\"font-size: 12px;\" title=\"1 topic\">Workforce Return</a>\n",
      "<a class=\"tag-link-44\" href=\"https://willingconsulting.com/tag/xbee/\" style=\"font-size: 12px;\" title=\"1 topic\">XBee</a>\n",
      "<a class=\"tag-link-20\" href=\"https://willingconsulting.com/tag/xblock/\" style=\"font-size: 12px;\" title=\"1 topic\">Xblock</a></div>\n",
      "</aside><aside class=\"widget widget_pages\" id=\"pages-4\"><h1 class=\"widget-title\">Site Pages</h1> <ul>\n",
      "<li class=\"page_item page-item-8 page_item_has_children\"><a href=\"https://willingconsulting.com/about/\">About</a>\n",
      "<ul class=\"children\">\n",
      "<li class=\"page_item page-item-534\"><a href=\"https://willingconsulting.com/about/bio/\">Bio</a></li>\n",
      "<li class=\"page_item page-item-265\"><a href=\"https://willingconsulting.com/about/education/\">Education</a></li>\n",
      "<li class=\"page_item page-item-205\"><a href=\"https://willingconsulting.com/about/professional-communities/\">Professional Communities</a></li>\n",
      "</ul>\n",
      "</li>\n",
      "<li class=\"page_item page-item-221\"><a href=\"https://willingconsulting.com/consulting/\">Consulting</a></li>\n",
      "<li class=\"page_item page-item-18\"><a href=\"https://willingconsulting.com/contact/\">Contact</a></li>\n",
      "<li class=\"page_item page-item-207\"><a href=\"https://willingconsulting.com/events/\">Events</a></li>\n",
      "<li class=\"page_item page-item-15\"><a href=\"https://willingconsulting.com/wow/\">Words</a></li>\n",
      "</ul>\n",
      "</aside></div>\n",
      "</div><!-- #content -->\n",
      "<footer class=\"site-footer layout-span\" id=\"colophon\" role=\"contentinfo\">\n",
      "<ul class=\"site-social\" role=\"menu\"><li title=\"Twitter\"><a href=\"https://twitter.com/willingcarol\" target=\"_blank\"><span>Twitter</span></a></li></ul>\n",
      "<div class=\"site-copyright\">© Copyright 2015.</div>\n",
      "<div class=\"site-credits\">\n",
      "<a href=\"http://wordpress.org/\">Proudly powered by WordPress</a>\n",
      "      Theme: Bindery by <a href=\"http://pixelunion.net/\" rel=\"designer\">Pixel Union</a>.    </div>\n",
      "</footer>\n",
      "</div>\n",
      "<script src=\"http://willingconsulting.com/wp-content/themes/bindery/js/vendor.js\" type=\"text/javascript\"></script>\n",
      "<script src=\"http://willingconsulting.com/wp-content/themes/bindery/js/theme.js\" type=\"text/javascript\"></script>\n",
      "</body>\n",
      "</html>\n",
      "\n"
     ]
    }
   ],
   "source": [
    "print(bsObj)"
   ]
  },
  {
   "cell_type": "code",
   "execution_count": 18,
   "metadata": {
    "collapsed": false
   },
   "outputs": [
    {
     "name": "stdout",
     "output_type": "stream",
     "text": [
      "<footer class=\"site-footer layout-span\" id=\"colophon\" role=\"contentinfo\">\n",
      "<ul class=\"site-social\" role=\"menu\"><li title=\"Twitter\"><a href=\"https://twitter.com/willingcarol\" target=\"_blank\"><span>Twitter</span></a></li></ul>\n",
      "<div class=\"site-copyright\">© Copyright 2015.</div>\n",
      "<div class=\"site-credits\">\n",
      "<a href=\"http://wordpress.org/\">Proudly powered by WordPress</a>\n",
      "      Theme: Bindery by <a href=\"http://pixelunion.net/\" rel=\"designer\">Pixel Union</a>.    </div>\n",
      "</footer>\n"
     ]
    }
   ],
   "source": [
    "print(bsObj.footer)"
   ]
  },
  {
   "cell_type": "code",
   "execution_count": 19,
   "metadata": {
    "collapsed": false
   },
   "outputs": [
    {
     "name": "stdout",
     "output_type": "stream",
     "text": [
      "<header class=\"site-header layout-span\" id=\"masthead\" role=\"banner\">\n",
      "<div class=\"site-nav-toggle\">\n",
      "<a><span class=\"screen-reader-text\">Toggle Menu</span></a>\n",
      "</div>\n",
      "<div class=\"site-header-wrap\">\n",
      "<div class=\"site-header-content\">\n",
      "<div class=\"site-branding\">\n",
      "<div class=\"site-tagline\">\n",
      "<h1 class=\"site-title\">\n",
      "<a href=\"https://willingconsulting.com/\" rel=\"home\">Willing Consulting</a>\n",
      "</h1>\n",
      "<h2 class=\"site-description\">Learn. Build. Share. — Openly</h2>\n",
      "</div>\n",
      "</div>\n",
      "<div class=\"site-nav\"><span class=\"site-nav-title\">Menu</span><ul class=\"site-nav-menu\" role=\"menu\"><li class=\"parent\"><a href=\"https://willingconsulting.com/about/\">About</a><ul><li><a href=\"https://willingconsulting.com/about/bio/\">Bio</a></li><li><a href=\"https://willingconsulting.com/about/education/\">Education</a></li><li><a href=\"https://willingconsulting.com/about/professional-communities/\">Professional Communities</a></li><li><a href=\"https://willingconsulting.com/wow/\">Words</a></li></ul></li><li><a href=\"https://willingconsulting.com/\">Blog</a></li><li><a href=\"https://willingconsulting.com/consulting/\">Consulting</a></li><li><a href=\"https://willingconsulting.com/events/\">Events</a></li><li><a href=\"https://willingconsulting.com/contact/\">Contact</a></li></ul></div>\n",
      "<div class=\"site-filter\">\n",
      "<form action=\"https://willingconsulting.com/\" class=\"search-form\" method=\"get\" role=\"search\">\n",
      "<label>\n",
      "<span class=\"screen-reader-text\">Search for:</span>\n",
      "<input class=\"search-field\" name=\"s\" placeholder=\"Search\" type=\"search\" value=\"\"/>\n",
      "</label>\n",
      "<input class=\"search-submit\" type=\"submit\" value=\"Search\"/>\n",
      "</form>\n",
      "</div>\n",
      "</div>\n",
      "</div>\n",
      "</header>\n"
     ]
    }
   ],
   "source": [
    "print(bsObj.header)"
   ]
  },
  {
   "cell_type": "code",
   "execution_count": 22,
   "metadata": {
    "collapsed": false
   },
   "outputs": [
    {
     "name": "stdout",
     "output_type": "stream",
     "text": [
      "<bound method Tag.prettify of <header class=\"site-header layout-span\" id=\"masthead\" role=\"banner\">\n",
      "<div class=\"site-nav-toggle\">\n",
      "<a><span class=\"screen-reader-text\">Toggle Menu</span></a>\n",
      "</div>\n",
      "<div class=\"site-header-wrap\">\n",
      "<div class=\"site-header-content\">\n",
      "<div class=\"site-branding\">\n",
      "<div class=\"site-tagline\">\n",
      "<h1 class=\"site-title\">\n",
      "<a href=\"https://willingconsulting.com/\" rel=\"home\">Willing Consulting</a>\n",
      "</h1>\n",
      "<h2 class=\"site-description\">Learn. Build. Share. — Openly</h2>\n",
      "</div>\n",
      "</div>\n",
      "<div class=\"site-nav\"><span class=\"site-nav-title\">Menu</span><ul class=\"site-nav-menu\" role=\"menu\"><li class=\"parent\"><a href=\"https://willingconsulting.com/about/\">About</a><ul><li><a href=\"https://willingconsulting.com/about/bio/\">Bio</a></li><li><a href=\"https://willingconsulting.com/about/education/\">Education</a></li><li><a href=\"https://willingconsulting.com/about/professional-communities/\">Professional Communities</a></li><li><a href=\"https://willingconsulting.com/wow/\">Words</a></li></ul></li><li><a href=\"https://willingconsulting.com/\">Blog</a></li><li><a href=\"https://willingconsulting.com/consulting/\">Consulting</a></li><li><a href=\"https://willingconsulting.com/events/\">Events</a></li><li><a href=\"https://willingconsulting.com/contact/\">Contact</a></li></ul></div>\n",
      "<div class=\"site-filter\">\n",
      "<form action=\"https://willingconsulting.com/\" class=\"search-form\" method=\"get\" role=\"search\">\n",
      "<label>\n",
      "<span class=\"screen-reader-text\">Search for:</span>\n",
      "<input class=\"search-field\" name=\"s\" placeholder=\"Search\" type=\"search\" value=\"\"/>\n",
      "</label>\n",
      "<input class=\"search-submit\" type=\"submit\" value=\"Search\"/>\n",
      "</form>\n",
      "</div>\n",
      "</div>\n",
      "</div>\n",
      "</header>>\n"
     ]
    }
   ],
   "source": [
    "print(bsObj.header.prettify)"
   ]
  },
  {
   "cell_type": "code",
   "execution_count": 24,
   "metadata": {
    "collapsed": false
   },
   "outputs": [
    {
     "ename": "KeyboardInterrupt",
     "evalue": "",
     "output_type": "error",
     "traceback": [
      "\u001b[0;31m---------------------------------------------------------------------------\u001b[0m",
      "\u001b[0;31mKeyboardInterrupt\u001b[0m                         Traceback (most recent call last)",
      "\u001b[0;32m<ipython-input-24-677b542ac534>\u001b[0m in \u001b[0;36m<module>\u001b[0;34m()\u001b[0m\n\u001b[1;32m      7\u001b[0m     \u001b[0;32mreturn\u001b[0m \u001b[0mresponseJson\u001b[0m\u001b[0;34m.\u001b[0m\u001b[0mget\u001b[0m\u001b[0;34m(\u001b[0m\u001b[0;34m\"country_code\"\u001b[0m\u001b[0;34m)\u001b[0m\u001b[0;34m\u001b[0m\u001b[0m\n\u001b[1;32m      8\u001b[0m \u001b[0;34m\u001b[0m\u001b[0m\n\u001b[0;32m----> 9\u001b[0;31m \u001b[0mprint\u001b[0m\u001b[0;34m(\u001b[0m\u001b[0mgetCountry\u001b[0m\u001b[0;34m(\u001b[0m\u001b[0;34m\"50.78.253.58\"\u001b[0m\u001b[0;34m)\u001b[0m\u001b[0;34m)\u001b[0m\u001b[0;34m\u001b[0m\u001b[0m\n\u001b[0m",
      "\u001b[0;32m<ipython-input-24-677b542ac534>\u001b[0m in \u001b[0;36mgetCountry\u001b[0;34m(ipAddress)\u001b[0m\n\u001b[1;32m      3\u001b[0m \u001b[0;34m\u001b[0m\u001b[0m\n\u001b[1;32m      4\u001b[0m \u001b[0;32mdef\u001b[0m \u001b[0mgetCountry\u001b[0m\u001b[0;34m(\u001b[0m\u001b[0mipAddress\u001b[0m\u001b[0;34m)\u001b[0m\u001b[0;34m:\u001b[0m\u001b[0;34m\u001b[0m\u001b[0m\n\u001b[0;32m----> 5\u001b[0;31m     \u001b[0mresponse\u001b[0m \u001b[0;34m=\u001b[0m \u001b[0murlopen\u001b[0m\u001b[0;34m(\u001b[0m\u001b[0;34m\"http://freegeoip.net/json/\"\u001b[0m\u001b[0;34m+\u001b[0m\u001b[0mipAddress\u001b[0m\u001b[0;34m)\u001b[0m\u001b[0;34m.\u001b[0m\u001b[0mread\u001b[0m\u001b[0;34m(\u001b[0m\u001b[0;34m)\u001b[0m\u001b[0;34m.\u001b[0m\u001b[0mdecode\u001b[0m\u001b[0;34m(\u001b[0m\u001b[0;34m'utf-8'\u001b[0m\u001b[0;34m)\u001b[0m\u001b[0;34m\u001b[0m\u001b[0m\n\u001b[0m\u001b[1;32m      6\u001b[0m     \u001b[0mresponseJson\u001b[0m \u001b[0;34m=\u001b[0m \u001b[0mjson\u001b[0m\u001b[0;34m.\u001b[0m\u001b[0mloads\u001b[0m\u001b[0;34m(\u001b[0m\u001b[0mresponse\u001b[0m\u001b[0;34m)\u001b[0m\u001b[0;34m\u001b[0m\u001b[0m\n\u001b[1;32m      7\u001b[0m     \u001b[0;32mreturn\u001b[0m \u001b[0mresponseJson\u001b[0m\u001b[0;34m.\u001b[0m\u001b[0mget\u001b[0m\u001b[0;34m(\u001b[0m\u001b[0;34m\"country_code\"\u001b[0m\u001b[0;34m)\u001b[0m\u001b[0;34m\u001b[0m\u001b[0m\n",
      "\u001b[0;32m/usr/local/opt/pyenv/versions/anaconda3-2.1.0/lib/python3.4/urllib/request.py\u001b[0m in \u001b[0;36murlopen\u001b[0;34m(url, data, timeout, cafile, capath, cadefault, context)\u001b[0m\n\u001b[1;32m    159\u001b[0m     \u001b[0;32melse\u001b[0m\u001b[0;34m:\u001b[0m\u001b[0;34m\u001b[0m\u001b[0m\n\u001b[1;32m    160\u001b[0m         \u001b[0mopener\u001b[0m \u001b[0;34m=\u001b[0m \u001b[0m_opener\u001b[0m\u001b[0;34m\u001b[0m\u001b[0m\n\u001b[0;32m--> 161\u001b[0;31m     \u001b[0;32mreturn\u001b[0m \u001b[0mopener\u001b[0m\u001b[0;34m.\u001b[0m\u001b[0mopen\u001b[0m\u001b[0;34m(\u001b[0m\u001b[0murl\u001b[0m\u001b[0;34m,\u001b[0m \u001b[0mdata\u001b[0m\u001b[0;34m,\u001b[0m \u001b[0mtimeout\u001b[0m\u001b[0;34m)\u001b[0m\u001b[0;34m\u001b[0m\u001b[0m\n\u001b[0m\u001b[1;32m    162\u001b[0m \u001b[0;34m\u001b[0m\u001b[0m\n\u001b[1;32m    163\u001b[0m \u001b[0;32mdef\u001b[0m \u001b[0minstall_opener\u001b[0m\u001b[0;34m(\u001b[0m\u001b[0mopener\u001b[0m\u001b[0;34m)\u001b[0m\u001b[0;34m:\u001b[0m\u001b[0;34m\u001b[0m\u001b[0m\n",
      "\u001b[0;32m/usr/local/opt/pyenv/versions/anaconda3-2.1.0/lib/python3.4/urllib/request.py\u001b[0m in \u001b[0;36mopen\u001b[0;34m(self, fullurl, data, timeout)\u001b[0m\n\u001b[1;32m    461\u001b[0m             \u001b[0mreq\u001b[0m \u001b[0;34m=\u001b[0m \u001b[0mmeth\u001b[0m\u001b[0;34m(\u001b[0m\u001b[0mreq\u001b[0m\u001b[0;34m)\u001b[0m\u001b[0;34m\u001b[0m\u001b[0m\n\u001b[1;32m    462\u001b[0m \u001b[0;34m\u001b[0m\u001b[0m\n\u001b[0;32m--> 463\u001b[0;31m         \u001b[0mresponse\u001b[0m \u001b[0;34m=\u001b[0m \u001b[0mself\u001b[0m\u001b[0;34m.\u001b[0m\u001b[0m_open\u001b[0m\u001b[0;34m(\u001b[0m\u001b[0mreq\u001b[0m\u001b[0;34m,\u001b[0m \u001b[0mdata\u001b[0m\u001b[0;34m)\u001b[0m\u001b[0;34m\u001b[0m\u001b[0m\n\u001b[0m\u001b[1;32m    464\u001b[0m \u001b[0;34m\u001b[0m\u001b[0m\n\u001b[1;32m    465\u001b[0m         \u001b[0;31m# post-process response\u001b[0m\u001b[0;34m\u001b[0m\u001b[0;34m\u001b[0m\u001b[0m\n",
      "\u001b[0;32m/usr/local/opt/pyenv/versions/anaconda3-2.1.0/lib/python3.4/urllib/request.py\u001b[0m in \u001b[0;36m_open\u001b[0;34m(self, req, data)\u001b[0m\n\u001b[1;32m    479\u001b[0m         \u001b[0mprotocol\u001b[0m \u001b[0;34m=\u001b[0m \u001b[0mreq\u001b[0m\u001b[0;34m.\u001b[0m\u001b[0mtype\u001b[0m\u001b[0;34m\u001b[0m\u001b[0m\n\u001b[1;32m    480\u001b[0m         result = self._call_chain(self.handle_open, protocol, protocol +\n\u001b[0;32m--> 481\u001b[0;31m                                   '_open', req)\n\u001b[0m\u001b[1;32m    482\u001b[0m         \u001b[0;32mif\u001b[0m \u001b[0mresult\u001b[0m\u001b[0;34m:\u001b[0m\u001b[0;34m\u001b[0m\u001b[0m\n\u001b[1;32m    483\u001b[0m             \u001b[0;32mreturn\u001b[0m \u001b[0mresult\u001b[0m\u001b[0;34m\u001b[0m\u001b[0m\n",
      "\u001b[0;32m/usr/local/opt/pyenv/versions/anaconda3-2.1.0/lib/python3.4/urllib/request.py\u001b[0m in \u001b[0;36m_call_chain\u001b[0;34m(self, chain, kind, meth_name, *args)\u001b[0m\n\u001b[1;32m    439\u001b[0m         \u001b[0;32mfor\u001b[0m \u001b[0mhandler\u001b[0m \u001b[0;32min\u001b[0m \u001b[0mhandlers\u001b[0m\u001b[0;34m:\u001b[0m\u001b[0;34m\u001b[0m\u001b[0m\n\u001b[1;32m    440\u001b[0m             \u001b[0mfunc\u001b[0m \u001b[0;34m=\u001b[0m \u001b[0mgetattr\u001b[0m\u001b[0;34m(\u001b[0m\u001b[0mhandler\u001b[0m\u001b[0;34m,\u001b[0m \u001b[0mmeth_name\u001b[0m\u001b[0;34m)\u001b[0m\u001b[0;34m\u001b[0m\u001b[0m\n\u001b[0;32m--> 441\u001b[0;31m             \u001b[0mresult\u001b[0m \u001b[0;34m=\u001b[0m \u001b[0mfunc\u001b[0m\u001b[0;34m(\u001b[0m\u001b[0;34m*\u001b[0m\u001b[0margs\u001b[0m\u001b[0;34m)\u001b[0m\u001b[0;34m\u001b[0m\u001b[0m\n\u001b[0m\u001b[1;32m    442\u001b[0m             \u001b[0;32mif\u001b[0m \u001b[0mresult\u001b[0m \u001b[0;32mis\u001b[0m \u001b[0;32mnot\u001b[0m \u001b[0;32mNone\u001b[0m\u001b[0;34m:\u001b[0m\u001b[0;34m\u001b[0m\u001b[0m\n\u001b[1;32m    443\u001b[0m                 \u001b[0;32mreturn\u001b[0m \u001b[0mresult\u001b[0m\u001b[0;34m\u001b[0m\u001b[0m\n",
      "\u001b[0;32m/usr/local/opt/pyenv/versions/anaconda3-2.1.0/lib/python3.4/urllib/request.py\u001b[0m in \u001b[0;36mhttp_open\u001b[0;34m(self, req)\u001b[0m\n\u001b[1;32m   1208\u001b[0m \u001b[0;34m\u001b[0m\u001b[0m\n\u001b[1;32m   1209\u001b[0m     \u001b[0;32mdef\u001b[0m \u001b[0mhttp_open\u001b[0m\u001b[0;34m(\u001b[0m\u001b[0mself\u001b[0m\u001b[0;34m,\u001b[0m \u001b[0mreq\u001b[0m\u001b[0;34m)\u001b[0m\u001b[0;34m:\u001b[0m\u001b[0;34m\u001b[0m\u001b[0m\n\u001b[0;32m-> 1210\u001b[0;31m         \u001b[0;32mreturn\u001b[0m \u001b[0mself\u001b[0m\u001b[0;34m.\u001b[0m\u001b[0mdo_open\u001b[0m\u001b[0;34m(\u001b[0m\u001b[0mhttp\u001b[0m\u001b[0;34m.\u001b[0m\u001b[0mclient\u001b[0m\u001b[0;34m.\u001b[0m\u001b[0mHTTPConnection\u001b[0m\u001b[0;34m,\u001b[0m \u001b[0mreq\u001b[0m\u001b[0;34m)\u001b[0m\u001b[0;34m\u001b[0m\u001b[0m\n\u001b[0m\u001b[1;32m   1211\u001b[0m \u001b[0;34m\u001b[0m\u001b[0m\n\u001b[1;32m   1212\u001b[0m     \u001b[0mhttp_request\u001b[0m \u001b[0;34m=\u001b[0m \u001b[0mAbstractHTTPHandler\u001b[0m\u001b[0;34m.\u001b[0m\u001b[0mdo_request_\u001b[0m\u001b[0;34m\u001b[0m\u001b[0m\n",
      "\u001b[0;32m/usr/local/opt/pyenv/versions/anaconda3-2.1.0/lib/python3.4/urllib/request.py\u001b[0m in \u001b[0;36mdo_open\u001b[0;34m(self, http_class, req, **http_conn_args)\u001b[0m\n\u001b[1;32m   1180\u001b[0m         \u001b[0;32mtry\u001b[0m\u001b[0;34m:\u001b[0m\u001b[0;34m\u001b[0m\u001b[0m\n\u001b[1;32m   1181\u001b[0m             \u001b[0;32mtry\u001b[0m\u001b[0;34m:\u001b[0m\u001b[0;34m\u001b[0m\u001b[0m\n\u001b[0;32m-> 1182\u001b[0;31m                 \u001b[0mh\u001b[0m\u001b[0;34m.\u001b[0m\u001b[0mrequest\u001b[0m\u001b[0;34m(\u001b[0m\u001b[0mreq\u001b[0m\u001b[0;34m.\u001b[0m\u001b[0mget_method\u001b[0m\u001b[0;34m(\u001b[0m\u001b[0;34m)\u001b[0m\u001b[0;34m,\u001b[0m \u001b[0mreq\u001b[0m\u001b[0;34m.\u001b[0m\u001b[0mselector\u001b[0m\u001b[0;34m,\u001b[0m \u001b[0mreq\u001b[0m\u001b[0;34m.\u001b[0m\u001b[0mdata\u001b[0m\u001b[0;34m,\u001b[0m \u001b[0mheaders\u001b[0m\u001b[0;34m)\u001b[0m\u001b[0;34m\u001b[0m\u001b[0m\n\u001b[0m\u001b[1;32m   1183\u001b[0m             \u001b[0;32mexcept\u001b[0m \u001b[0mOSError\u001b[0m \u001b[0;32mas\u001b[0m \u001b[0merr\u001b[0m\u001b[0;34m:\u001b[0m \u001b[0;31m# timeout error\u001b[0m\u001b[0;34m\u001b[0m\u001b[0m\n\u001b[1;32m   1184\u001b[0m                 \u001b[0;32mraise\u001b[0m \u001b[0mURLError\u001b[0m\u001b[0;34m(\u001b[0m\u001b[0merr\u001b[0m\u001b[0;34m)\u001b[0m\u001b[0;34m\u001b[0m\u001b[0m\n",
      "\u001b[0;32m/usr/local/opt/pyenv/versions/anaconda3-2.1.0/lib/python3.4/http/client.py\u001b[0m in \u001b[0;36mrequest\u001b[0;34m(self, method, url, body, headers)\u001b[0m\n\u001b[1;32m   1086\u001b[0m     \u001b[0;32mdef\u001b[0m \u001b[0mrequest\u001b[0m\u001b[0;34m(\u001b[0m\u001b[0mself\u001b[0m\u001b[0;34m,\u001b[0m \u001b[0mmethod\u001b[0m\u001b[0;34m,\u001b[0m \u001b[0murl\u001b[0m\u001b[0;34m,\u001b[0m \u001b[0mbody\u001b[0m\u001b[0;34m=\u001b[0m\u001b[0;32mNone\u001b[0m\u001b[0;34m,\u001b[0m \u001b[0mheaders\u001b[0m\u001b[0;34m=\u001b[0m\u001b[0;34m{\u001b[0m\u001b[0;34m}\u001b[0m\u001b[0;34m)\u001b[0m\u001b[0;34m:\u001b[0m\u001b[0;34m\u001b[0m\u001b[0m\n\u001b[1;32m   1087\u001b[0m         \u001b[0;34m\"\"\"Send a complete request to the server.\"\"\"\u001b[0m\u001b[0;34m\u001b[0m\u001b[0m\n\u001b[0;32m-> 1088\u001b[0;31m         \u001b[0mself\u001b[0m\u001b[0;34m.\u001b[0m\u001b[0m_send_request\u001b[0m\u001b[0;34m(\u001b[0m\u001b[0mmethod\u001b[0m\u001b[0;34m,\u001b[0m \u001b[0murl\u001b[0m\u001b[0;34m,\u001b[0m \u001b[0mbody\u001b[0m\u001b[0;34m,\u001b[0m \u001b[0mheaders\u001b[0m\u001b[0;34m)\u001b[0m\u001b[0;34m\u001b[0m\u001b[0m\n\u001b[0m\u001b[1;32m   1089\u001b[0m \u001b[0;34m\u001b[0m\u001b[0m\n\u001b[1;32m   1090\u001b[0m     \u001b[0;32mdef\u001b[0m \u001b[0m_set_content_length\u001b[0m\u001b[0;34m(\u001b[0m\u001b[0mself\u001b[0m\u001b[0;34m,\u001b[0m \u001b[0mbody\u001b[0m\u001b[0;34m)\u001b[0m\u001b[0;34m:\u001b[0m\u001b[0;34m\u001b[0m\u001b[0m\n",
      "\u001b[0;32m/usr/local/opt/pyenv/versions/anaconda3-2.1.0/lib/python3.4/http/client.py\u001b[0m in \u001b[0;36m_send_request\u001b[0;34m(self, method, url, body, headers)\u001b[0m\n\u001b[1;32m   1124\u001b[0m             \u001b[0;31m# default charset of iso-8859-1.\u001b[0m\u001b[0;34m\u001b[0m\u001b[0;34m\u001b[0m\u001b[0m\n\u001b[1;32m   1125\u001b[0m             \u001b[0mbody\u001b[0m \u001b[0;34m=\u001b[0m \u001b[0mbody\u001b[0m\u001b[0;34m.\u001b[0m\u001b[0mencode\u001b[0m\u001b[0;34m(\u001b[0m\u001b[0;34m'iso-8859-1'\u001b[0m\u001b[0;34m)\u001b[0m\u001b[0;34m\u001b[0m\u001b[0m\n\u001b[0;32m-> 1126\u001b[0;31m         \u001b[0mself\u001b[0m\u001b[0;34m.\u001b[0m\u001b[0mendheaders\u001b[0m\u001b[0;34m(\u001b[0m\u001b[0mbody\u001b[0m\u001b[0;34m)\u001b[0m\u001b[0;34m\u001b[0m\u001b[0m\n\u001b[0m\u001b[1;32m   1127\u001b[0m \u001b[0;34m\u001b[0m\u001b[0m\n\u001b[1;32m   1128\u001b[0m     \u001b[0;32mdef\u001b[0m \u001b[0mgetresponse\u001b[0m\u001b[0;34m(\u001b[0m\u001b[0mself\u001b[0m\u001b[0;34m)\u001b[0m\u001b[0;34m:\u001b[0m\u001b[0;34m\u001b[0m\u001b[0m\n",
      "\u001b[0;32m/usr/local/opt/pyenv/versions/anaconda3-2.1.0/lib/python3.4/http/client.py\u001b[0m in \u001b[0;36mendheaders\u001b[0;34m(self, message_body)\u001b[0m\n\u001b[1;32m   1082\u001b[0m         \u001b[0;32melse\u001b[0m\u001b[0;34m:\u001b[0m\u001b[0;34m\u001b[0m\u001b[0m\n\u001b[1;32m   1083\u001b[0m             \u001b[0;32mraise\u001b[0m \u001b[0mCannotSendHeader\u001b[0m\u001b[0;34m(\u001b[0m\u001b[0;34m)\u001b[0m\u001b[0;34m\u001b[0m\u001b[0m\n\u001b[0;32m-> 1084\u001b[0;31m         \u001b[0mself\u001b[0m\u001b[0;34m.\u001b[0m\u001b[0m_send_output\u001b[0m\u001b[0;34m(\u001b[0m\u001b[0mmessage_body\u001b[0m\u001b[0;34m)\u001b[0m\u001b[0;34m\u001b[0m\u001b[0m\n\u001b[0m\u001b[1;32m   1085\u001b[0m \u001b[0;34m\u001b[0m\u001b[0m\n\u001b[1;32m   1086\u001b[0m     \u001b[0;32mdef\u001b[0m \u001b[0mrequest\u001b[0m\u001b[0;34m(\u001b[0m\u001b[0mself\u001b[0m\u001b[0;34m,\u001b[0m \u001b[0mmethod\u001b[0m\u001b[0;34m,\u001b[0m \u001b[0murl\u001b[0m\u001b[0;34m,\u001b[0m \u001b[0mbody\u001b[0m\u001b[0;34m=\u001b[0m\u001b[0;32mNone\u001b[0m\u001b[0;34m,\u001b[0m \u001b[0mheaders\u001b[0m\u001b[0;34m=\u001b[0m\u001b[0;34m{\u001b[0m\u001b[0;34m}\u001b[0m\u001b[0;34m)\u001b[0m\u001b[0;34m:\u001b[0m\u001b[0;34m\u001b[0m\u001b[0m\n",
      "\u001b[0;32m/usr/local/opt/pyenv/versions/anaconda3-2.1.0/lib/python3.4/http/client.py\u001b[0m in \u001b[0;36m_send_output\u001b[0;34m(self, message_body)\u001b[0m\n\u001b[1;32m    920\u001b[0m             \u001b[0mmsg\u001b[0m \u001b[0;34m+=\u001b[0m \u001b[0mmessage_body\u001b[0m\u001b[0;34m\u001b[0m\u001b[0m\n\u001b[1;32m    921\u001b[0m             \u001b[0mmessage_body\u001b[0m \u001b[0;34m=\u001b[0m \u001b[0;32mNone\u001b[0m\u001b[0;34m\u001b[0m\u001b[0m\n\u001b[0;32m--> 922\u001b[0;31m         \u001b[0mself\u001b[0m\u001b[0;34m.\u001b[0m\u001b[0msend\u001b[0m\u001b[0;34m(\u001b[0m\u001b[0mmsg\u001b[0m\u001b[0;34m)\u001b[0m\u001b[0;34m\u001b[0m\u001b[0m\n\u001b[0m\u001b[1;32m    923\u001b[0m         \u001b[0;32mif\u001b[0m \u001b[0mmessage_body\u001b[0m \u001b[0;32mis\u001b[0m \u001b[0;32mnot\u001b[0m \u001b[0;32mNone\u001b[0m\u001b[0;34m:\u001b[0m\u001b[0;34m\u001b[0m\u001b[0m\n\u001b[1;32m    924\u001b[0m             \u001b[0;31m# message_body was not a string (i.e. it is a file), and\u001b[0m\u001b[0;34m\u001b[0m\u001b[0;34m\u001b[0m\u001b[0m\n",
      "\u001b[0;32m/usr/local/opt/pyenv/versions/anaconda3-2.1.0/lib/python3.4/http/client.py\u001b[0m in \u001b[0;36msend\u001b[0;34m(self, data)\u001b[0m\n\u001b[1;32m    855\u001b[0m         \u001b[0;32mif\u001b[0m \u001b[0mself\u001b[0m\u001b[0;34m.\u001b[0m\u001b[0msock\u001b[0m \u001b[0;32mis\u001b[0m \u001b[0;32mNone\u001b[0m\u001b[0;34m:\u001b[0m\u001b[0;34m\u001b[0m\u001b[0m\n\u001b[1;32m    856\u001b[0m             \u001b[0;32mif\u001b[0m \u001b[0mself\u001b[0m\u001b[0;34m.\u001b[0m\u001b[0mauto_open\u001b[0m\u001b[0;34m:\u001b[0m\u001b[0;34m\u001b[0m\u001b[0m\n\u001b[0;32m--> 857\u001b[0;31m                 \u001b[0mself\u001b[0m\u001b[0;34m.\u001b[0m\u001b[0mconnect\u001b[0m\u001b[0;34m(\u001b[0m\u001b[0;34m)\u001b[0m\u001b[0;34m\u001b[0m\u001b[0m\n\u001b[0m\u001b[1;32m    858\u001b[0m             \u001b[0;32melse\u001b[0m\u001b[0;34m:\u001b[0m\u001b[0;34m\u001b[0m\u001b[0m\n\u001b[1;32m    859\u001b[0m                 \u001b[0;32mraise\u001b[0m \u001b[0mNotConnected\u001b[0m\u001b[0;34m(\u001b[0m\u001b[0;34m)\u001b[0m\u001b[0;34m\u001b[0m\u001b[0m\n",
      "\u001b[0;32m/usr/local/opt/pyenv/versions/anaconda3-2.1.0/lib/python3.4/http/client.py\u001b[0m in \u001b[0;36mconnect\u001b[0;34m(self)\u001b[0m\n\u001b[1;32m    832\u001b[0m         \u001b[0;34m\"\"\"Connect to the host and port specified in __init__.\"\"\"\u001b[0m\u001b[0;34m\u001b[0m\u001b[0m\n\u001b[1;32m    833\u001b[0m         self.sock = self._create_connection((self.host,self.port),\n\u001b[0;32m--> 834\u001b[0;31m                                             self.timeout, self.source_address)\n\u001b[0m\u001b[1;32m    835\u001b[0m \u001b[0;34m\u001b[0m\u001b[0m\n\u001b[1;32m    836\u001b[0m         \u001b[0;32mif\u001b[0m \u001b[0mself\u001b[0m\u001b[0;34m.\u001b[0m\u001b[0m_tunnel_host\u001b[0m\u001b[0;34m:\u001b[0m\u001b[0;34m\u001b[0m\u001b[0m\n",
      "\u001b[0;32m/usr/local/opt/pyenv/versions/anaconda3-2.1.0/lib/python3.4/socket.py\u001b[0m in \u001b[0;36mcreate_connection\u001b[0;34m(address, timeout, source_address)\u001b[0m\n\u001b[1;32m    501\u001b[0m             \u001b[0;32mif\u001b[0m \u001b[0msource_address\u001b[0m\u001b[0;34m:\u001b[0m\u001b[0;34m\u001b[0m\u001b[0m\n\u001b[1;32m    502\u001b[0m                 \u001b[0msock\u001b[0m\u001b[0;34m.\u001b[0m\u001b[0mbind\u001b[0m\u001b[0;34m(\u001b[0m\u001b[0msource_address\u001b[0m\u001b[0;34m)\u001b[0m\u001b[0;34m\u001b[0m\u001b[0m\n\u001b[0;32m--> 503\u001b[0;31m             \u001b[0msock\u001b[0m\u001b[0;34m.\u001b[0m\u001b[0mconnect\u001b[0m\u001b[0;34m(\u001b[0m\u001b[0msa\u001b[0m\u001b[0;34m)\u001b[0m\u001b[0;34m\u001b[0m\u001b[0m\n\u001b[0m\u001b[1;32m    504\u001b[0m             \u001b[0;32mreturn\u001b[0m \u001b[0msock\u001b[0m\u001b[0;34m\u001b[0m\u001b[0m\n\u001b[1;32m    505\u001b[0m \u001b[0;34m\u001b[0m\u001b[0m\n",
      "\u001b[0;31mKeyboardInterrupt\u001b[0m: "
     ]
    }
   ],
   "source": [
    "def getCountry(ipAddress):\n",
    "    response = urlopen(\"http://freegeoip.net/json/\"+ipAddress).read().decode('utf-8')\n",
    "    responseJson = json.loads(response)\n",
    "    return responseJson.get(\"country_code\")\n",
    "\n",
    "print(getCountry(\"50.78.253.58\"))"
   ]
  },
  {
   "cell_type": "code",
   "execution_count": 35,
   "metadata": {
    "collapsed": true
   },
   "outputs": [],
   "source": [
    "import json\n",
    "import requests"
   ]
  },
  {
   "cell_type": "code",
   "execution_count": 36,
   "metadata": {
    "collapsed": false
   },
   "outputs": [],
   "source": [
    "def getCountry(ipAddress):\n",
    "    response = requests.get(\"http://freegeoip.net/json/\" + ipAddress)\n",
    "    return response"
   ]
  },
  {
   "cell_type": "code",
   "execution_count": 38,
   "metadata": {
    "collapsed": false
   },
   "outputs": [
    {
     "name": "stdout",
     "output_type": "stream",
     "text": [
      "b'<!DOCTYPE html>\\n<html lang=\"en-US\">\\n<head>\\n<meta charset=\"UTF-8\">\\n<meta http-equiv=\"X-UA-Compatible\" content=\"IE=edge\">\\n<meta name=\"viewport\" content=\"width=device-width, initial-scale=1\">\\n<meta name=\"theme-version\" content=\"1.0.0\">\\n<title>Willing Consulting | Learn. Build. Share. &#8212; Openly</title>\\n<link rel=\"profile\" href=\"http://gmpg.org/xfn/11\">\\n<link rel=\"pingback\" href=\"http://willingconsulting.com/xmlrpc.php\">\\n<link rel=\"alternate\" type=\"application/rss+xml\" title=\"Willing Consulting &raquo; Feed\" href=\"https://willingconsulting.com/feed/\" />\\n<link rel=\"alternate\" type=\"application/rss+xml\" title=\"Willing Consulting &raquo; Comments Feed\" href=\"https://willingconsulting.com/comments/feed/\" />\\n\\t\\t<script type=\"text/javascript\">\\n\\t\\t\\twindow._wpemojiSettings = {\"baseUrl\":\"http:\\\\/\\\\/s.w.org\\\\/images\\\\/core\\\\/emoji\\\\/72x72\\\\/\",\"ext\":\".png\",\"source\":{\"concatemoji\":\"http:\\\\/\\\\/willingconsulting.com\\\\/wp-includes\\\\/js\\\\/wp-emoji-release.min.js\"}};\\n\\t\\t\\t!function(a,b,c){function d(a){var c=b.createElement(\"canvas\"),d=c.getContext&&c.getContext(\"2d\");return d&&d.fillText?(d.textBaseline=\"top\",d.font=\"600 32px Arial\",\"flag\"===a?(d.fillText(String.fromCharCode(55356,56812,55356,56807),0,0),c.toDataURL().length>3e3):(d.fillText(String.fromCharCode(55357,56835),0,0),0!==d.getImageData(16,16,1,1).data[0])):!1}function e(a){var c=b.createElement(\"script\");c.src=a,c.type=\"text/javascript\",b.getElementsByTagName(\"head\")[0].appendChild(c)}var f,g;c.supports={simple:d(\"simple\"),flag:d(\"flag\")},c.DOMReady=!1,c.readyCallback=function(){c.DOMReady=!0},c.supports.simple&&c.supports.flag||(g=function(){c.readyCallback()},b.addEventListener?(b.addEventListener(\"DOMContentLoaded\",g,!1),a.addEventListener(\"load\",g,!1)):(a.attachEvent(\"onload\",g),b.attachEvent(\"onreadystatechange\",function(){\"complete\"===b.readyState&&c.readyCallback()})),f=c.source||{},f.concatemoji?e(f.concatemoji):f.wpemoji&&f.twemoji&&(e(f.twemoji),e(f.wpemoji)))}(window,document,window._wpemojiSettings);\\n\\t\\t</script>\\n\\t\\t<style type=\"text/css\">\\nimg.wp-smiley,\\nimg.emoji {\\n\\tdisplay: inline !important;\\n\\tborder: none !important;\\n\\tbox-shadow: none !important;\\n\\theight: 1em !important;\\n\\twidth: 1em !important;\\n\\tmargin: 0 .07em !important;\\n\\tvertical-align: -0.1em !important;\\n\\tbackground: none !important;\\n\\tpadding: 0 !important;\\n}\\n</style>\\n<link rel=\\'stylesheet\\' id=\\'bindery-style-css\\'  href=\\'http://willingconsulting.com/wp-content/themes/bindery/style.css\\' type=\\'text/css\\' media=\\'all\\' />\\n<link rel=\\'stylesheet\\' id=\\'bindery-webfonts-css\\'  href=\\'//fonts.googleapis.com/css?family=Quattrocento+Sans%3A400%2C400italic%2C700italic%2C700%7CVesper+Libre%3A700&#038;subset=latin%2Clatin-ext\\' type=\\'text/css\\' media=\\'all\\' />\\n<script type=\\'text/javascript\\' src=\\'http://willingconsulting.com/wp-includes/js/jquery/jquery.js\\'></script>\\n<script type=\\'text/javascript\\' src=\\'http://willingconsulting.com/wp-includes/js/jquery/jquery-migrate.min.js\\'></script>\\n<style id=\"bindery-customize-content-link-color\">\\n      a,\\n      .page-header .author .fn,\\n      .attachment-header span {\\n        color: #5087a5;\\n      }\\n\\n      .btn,\\n      button,\\n      input[type=\"button\"],\\n      input[type=\"reset\"],\\n      input[type=\"submit\"],\\n      .navigation-bar,\\n      .portfolio-card-overlay {\\n        background-color: #5087a5;\\n      }\\n    </style><style id=\"bindery-customize-content-active-color\">\\n      a:hover,\\n      a:active,\\n      .entry-title a:hover,\\n      .site-nav-menu a:hover,\\n      .post-navigation a:hover {\\n        color: #444444;\\n      }\\n\\n      .site-nav-menu .parent > a:hover:after {\\n        border-color: #444444 transparent transparent transparent;\\n      }\\n\\n      @media screen and (min-width: 840px) {\\n        .site-nav-menu li .parent > a:hover:after {\\n          border-color: transparent transparent transparent #444444;\\n        }\\n\\n        .rtl .site-nav-menu li .parent > a:hover:after {\\n          border-color: transparent #444444 transparent transparent;\\n        }\\n\\n        .site-nav-menu > a:hover,\\n        .site-nav-menu > .parent.active > a {\\n          color: #444444;\\n        }\\n      }\\n    </style><style id=\"bindery-customize-content-accent-color\">\\n      .entry-title a,\\n      .post-navigation a,\\n      .portfolio .entry-title,\\n      body .singular .intro:first-letter,\\n      .entry-content .jetpack-portfolio-shortcode .portfolio-entry-title,\\n      body #main div#jp-relatedposts div.jp-relatedposts-items .jp-relatedposts-post .jp-relatedposts-post-title a,\\n      body #main div#jp-relatedposts div.jp-relatedposts-items-visual h4.jp-relatedposts-post-title {\\n        color: #a27272;\\n      }\\n    </style></head>\\n\\n<body class=\"home blog group-blog not-singular has-site-title\">\\n<div class=\"hfeed site\" id=\"page\">\\n\\n\\n  <header class=\"site-header layout-span\" id=\"masthead\" role=\"banner\">\\n\\n    <div class=\"site-nav-toggle\">\\n      <a><span class=\"screen-reader-text\">Toggle Menu</span></a>\\n    </div>\\n\\n    <div class=\"site-header-wrap\">\\n\\n      <div class=\"site-header-content\">\\n\\n                  <div class=\"site-branding\">\\n            \\n                          <div class=\"site-tagline\">\\n                <h1 class=\"site-title\">\\n                  <a href=\"https://willingconsulting.com/\" rel=\"home\">Willing Consulting</a>\\n                </h1>\\n                <h2 class=\"site-description\">Learn. Build. Share. &#8212; Openly</h2>\\n              </div>\\n                      </div>\\n        \\n        <div class=\"site-nav\"><span class=\"site-nav-title\">Menu</span><ul class=\"site-nav-menu\" role=\"menu\"><li class=\"parent\"><a href=\"https://willingconsulting.com/about/\">About</a><ul><li><a href=\"https://willingconsulting.com/about/bio/\">Bio</a></li><li><a href=\"https://willingconsulting.com/about/education/\">Education</a></li><li><a href=\"https://willingconsulting.com/about/professional-communities/\">Professional Communities</a></li><li><a href=\"https://willingconsulting.com/wow/\">Words</a></li></ul></li><li><a href=\"https://willingconsulting.com/\">Blog</a></li><li><a href=\"https://willingconsulting.com/consulting/\">Consulting</a></li><li><a href=\"https://willingconsulting.com/events/\">Events</a></li><li><a href=\"https://willingconsulting.com/contact/\">Contact</a></li></ul></div>\\n        <div class=\"site-filter\">\\n          \\n          <form role=\"search\" method=\"get\" class=\"search-form\" action=\"https://willingconsulting.com/\">\\n  <label>\\n    <span class=\"screen-reader-text\">Search for:</span>\\n    <input type=\"search\" class=\"search-field\" placeholder=\"Search\" value=\"\" name=\"s\">\\n  </label>\\n  <input type=\"submit\" class=\"search-submit\" value=\"Search\">\\n</form>\\n        </div>\\n\\n      </div>\\n\\n    </div>\\n\\n  </header>\\n\\n\\n  <div class=\"site-content\" id=\"content\">\\n\\n<div class=\"content-area\" id=\"primary\">\\n  <main class=\"site-main\" id=\"main\" role=\"main\">\\n                  <article class=\"entry post-558 post type-post status-publish format-standard has-post-thumbnail hentry category-community-2 category-education category-python-2 category-software category-wisdom tag-brian-curtin tag-distinguished-service-award tag-mark-hammond tag-mission tag-psf tag-python\" id=\"post-558\">\\n  <div class=\"entry-main\">\\n\\n          <a class=\"entry-thumbnail-link\" href=\"https://willingconsulting.com/mission-moment-hammond/\">\\n        <div class=\"entry-thumbnail hidpi-image\"\\n          data-src=\"https://willingconsulting.com/wp-content/uploads/2015/06/bouquet-750x563.jpg\"\\n          data-src-hidpi=\"https://willingconsulting.com/wp-content/uploads/2015/06/bouquet-1500x1125.jpg\"\\n          data-src-width=\"750\">\\n        </div>\\n      </a>\\n    \\n    <div class=\"layout-span entry-layout\">\\n\\n      <div class=\"layout-entry\">\\n\\n        <header class=\"entry-header\">\\n                      <div class=\"entry-meta\">\\n              \\n              <div class=\"entry-meta-item published-link\">\\n                <a href=\"https://willingconsulting.com/mission-moment-hammond/\" rel=\"bookmark\">\\n                  <time datetime=\"2015-06-09T13:48:58+00:00\">2015/06/09</time>\\n                </a>\\n              </div>\\n\\n                          </div>\\n          \\n                      <h1 class=\"entry-title\">\\n              <a href=\"https://willingconsulting.com/mission-moment-hammond/\">Mission moment: Mark Hammond, PSF Distinguished Service Award Recipient</a>\\n            </h1>\\n                  </header>\\n\\n        <div class=\"entry-content layout-entry-content\">\\n                      <p>Today, the Python Software Foundation, commonly known as PSF in the Python community, gave the PSF Distinguished Service Award to Mark Hammond. Brian Curtin, a past PSF Director and long-time communicator of &#8220;community&#8221; importance, wrote a thoughtful PSF blog post about Mark&#8217;s many contributions to our Python community. The wonderful Python community also has itself to thank for allowing this book to come to fruition. The Python newsgroup seems to be one of the final bastions of Usenet where spams<a class=\"entry-more\" href=\"https://willingconsulting.com/mission-moment-hammond/\">Read more</a></p>\\n          \\n                  </div>\\n\\n      </div>\\n\\n    </div>\\n\\n  </div>\\n\\n  </article>\\n              <article class=\"entry post-541 post type-post status-publish format-standard has-post-thumbnail hentry category-community-2 category-education category-learn category-open-source category-python-2 category-software category-teamwork tag-education tag-psf tag-python tag-pyvideo-org\" id=\"post-541\">\\n  <div class=\"entry-main\">\\n\\n          <a class=\"entry-thumbnail-link\" href=\"https://willingconsulting.com/play-it-again-pyvideo-org/\">\\n        <div class=\"entry-thumbnail hidpi-image\"\\n          data-src=\"https://willingconsulting.com/wp-content/uploads/2015/06/2015_02_06_pyladies_cupcake_post-750x608.jpg\"\\n          data-src-hidpi=\"https://willingconsulting.com/wp-content/uploads/2015/06/2015_02_06_pyladies_cupcake_post-1500x1215.jpg\"\\n          data-src-width=\"750\">\\n        </div>\\n      </a>\\n    \\n    <div class=\"layout-span entry-layout\">\\n\\n      <div class=\"layout-entry\">\\n\\n        <header class=\"entry-header\">\\n                      <div class=\"entry-meta\">\\n              \\n              <div class=\"entry-meta-item published-link\">\\n                <a href=\"https://willingconsulting.com/play-it-again-pyvideo-org/\" rel=\"bookmark\">\\n                  <time datetime=\"2015-06-03T07:19:33+00:00\">2015/06/03</time>\\n                </a>\\n              </div>\\n\\n                          </div>\\n          \\n                      <h1 class=\"entry-title\">\\n              <a href=\"https://willingconsulting.com/play-it-again-pyvideo-org/\">Play it again pyvideo.org!</a>\\n            </h1>\\n                  </header>\\n\\n        <div class=\"entry-content layout-entry-content\">\\n                      <p>Yesterday, the Python Software Foundation posted results of the election for the Board of Directors 2015-2016 term. Thank you to the many individuals that participated and helped with the election. I want take a moment and give special thanks to the 2014-2015 PSF Board for their service and accomplishments. To the retiring PSF Board members, I love programming in Python, learning from others, and sharing pyvideo.org talks. To honor the goodness that each of you bring to the Python community,<a class=\"entry-more\" href=\"https://willingconsulting.com/play-it-again-pyvideo-org/\">Read more</a></p>\\n          \\n                  </div>\\n\\n      </div>\\n\\n    </div>\\n\\n  </div>\\n\\n  </article>\\n              <article class=\"entry post-528 post type-post status-publish format-standard has-post-thumbnail hentry category-community-2 category-education category-learn category-music tag-communication tag-community tag-joanne-yates tag-mentoring tag-music tag-writespeakcode\" id=\"post-528\">\\n  <div class=\"entry-main\">\\n\\n          <a class=\"entry-thumbnail-link\" href=\"https://willingconsulting.com/mentors-music-and-motivation/\">\\n        <div class=\"entry-thumbnail hidpi-image\"\\n          data-src=\"https://willingconsulting.com/wp-content/uploads/2015/03/2013-09-09-11.47.42-750x422.jpg\"\\n          data-src-hidpi=\"https://willingconsulting.com/wp-content/uploads/2015/03/2013-09-09-11.47.42-1500x844.jpg\"\\n          data-src-width=\"750\">\\n        </div>\\n      </a>\\n    \\n    <div class=\"layout-span entry-layout\">\\n\\n      <div class=\"layout-entry\">\\n\\n        <header class=\"entry-header\">\\n                      <div class=\"entry-meta\">\\n              \\n              <div class=\"entry-meta-item published-link\">\\n                <a href=\"https://willingconsulting.com/mentors-music-and-motivation/\" rel=\"bookmark\">\\n                  <time datetime=\"2015-03-18T14:36:03+00:00\">2015/03/18</time>\\n                </a>\\n              </div>\\n\\n                          </div>\\n          \\n                      <h1 class=\"entry-title\">\\n              <a href=\"https://willingconsulting.com/mentors-music-and-motivation/\">Mentors, music, and motivation</a>\\n            </h1>\\n                  </header>\\n\\n        <div class=\"entry-content layout-entry-content\">\\n                      <p>As I get ready to attend the Write/Speak/Code conference, I&#8217;m doing more reflecting on the past few months than packing for the trip. While I would like to leave San Diego with warm enough clothes for New York City, I want to write a few brief thoughts about learning from others. Learning from others is one of the things that I love most about software development. While I enjoy my time quietly working through code on my own, I value<a class=\"entry-more\" href=\"https://willingconsulting.com/mentors-music-and-motivation/\">Read more</a></p>\\n          \\n                  </div>\\n\\n      </div>\\n\\n    </div>\\n\\n  </div>\\n\\n  </article>\\n              <article class=\"entry post-500 post type-post status-publish format-standard has-post-thumbnail hentry category-community-2 category-education category-learn category-teamwork tag-community tag-fab-lab-san-diego\" id=\"post-500\">\\n  <div class=\"entry-main\">\\n\\n          <a class=\"entry-thumbnail-link\" href=\"https://willingconsulting.com/building-a-better-community/\">\\n        <div class=\"entry-thumbnail hidpi-image\"\\n          data-src=\"https://willingconsulting.com/wp-content/uploads/2015/03/fablaboutreach-750x421.jpg\"\\n          data-src-hidpi=\"https://willingconsulting.com/wp-content/uploads/2015/03/fablaboutreach.jpg\"\\n          data-src-width=\"750\">\\n        </div>\\n      </a>\\n    \\n    <div class=\"layout-span entry-layout\">\\n\\n      <div class=\"layout-entry\">\\n\\n        <header class=\"entry-header\">\\n                      <div class=\"entry-meta\">\\n              \\n              <div class=\"entry-meta-item published-link\">\\n                <a href=\"https://willingconsulting.com/building-a-better-community/\" rel=\"bookmark\">\\n                  <time datetime=\"2015-03-04T05:06:46+00:00\">2015/03/04</time>\\n                </a>\\n              </div>\\n\\n                          </div>\\n          \\n                      <h1 class=\"entry-title\">\\n              <a href=\"https://willingconsulting.com/building-a-better-community/\">Building a better community one person at a time: Fab Lab San Diego</a>\\n            </h1>\\n                  </header>\\n\\n        <div class=\"entry-content layout-entry-content\">\\n                      <p>Why I gave a $2048 donation to Fab Lab San Diego Watching someone bring their idea to life is an amazing reward. People from all walks of life have creative ideas. Through grassroots sharing of ideas, skills, and equipment, Fab Lab San Diego gives individuals a chance to learn, build, and share their creations. I believe Fab Lab San Diego&#8217;s outreach programs inspire students of all ages. Outreach is hard work but the community benefits are huge. Please join me<a class=\"entry-more\" href=\"https://willingconsulting.com/building-a-better-community/\">Read more</a></p>\\n          \\n                  </div>\\n\\n      </div>\\n\\n    </div>\\n\\n  </div>\\n\\n  </article>\\n              <article class=\"entry post-495 post type-post status-publish format-standard has-post-thumbnail hentry category-community-2 category-education category-learn category-open-source category-teamwork category-uncategorized tag-economics tag-education tag-edx tag-open-source-2 tag-security\" id=\"post-495\">\\n  <div class=\"entry-main\">\\n\\n          <a class=\"entry-thumbnail-link\" href=\"https://willingconsulting.com/security-at-the-seams/\">\\n        <div class=\"entry-thumbnail hidpi-image\"\\n          data-src=\"https://willingconsulting.com/wp-content/uploads/2015/03/securityguard-e1425307068802-750x740.jpg\"\\n          data-src-hidpi=\"https://willingconsulting.com/wp-content/uploads/2015/03/securityguard-1500x2667.jpg\"\\n          data-src-width=\"750\">\\n        </div>\\n      </a>\\n    \\n    <div class=\"layout-span entry-layout\">\\n\\n      <div class=\"layout-entry\">\\n\\n        <header class=\"entry-header\">\\n                      <div class=\"entry-meta\">\\n              \\n              <div class=\"entry-meta-item published-link\">\\n                <a href=\"https://willingconsulting.com/security-at-the-seams/\" rel=\"bookmark\">\\n                  <time datetime=\"2015-03-02T06:39:03+00:00\">2015/03/02</time>\\n                </a>\\n              </div>\\n\\n                          </div>\\n          \\n                      <h1 class=\"entry-title\">\\n              <a href=\"https://willingconsulting.com/security-at-the-seams/\">Security at the Seams: What\\xe2\\x80\\x99s a Software Development Manager to Do?</a>\\n            </h1>\\n                  </header>\\n\\n        <div class=\"entry-content layout-entry-content\">\\n                      <p>I recently had the pleasure of taking a new course through edX. The course, DelftX: EconSec101x Economics of Cybersecurity, adeptly illustrates the many economic issues and behaviors that impact security in practice. I highly recommend the course to those interested in economics and security. Here&#8217;s my final reflection essay from the course. Economics of Cybersecurity Reflection Essay Security at the Seams: What\\xe2\\x80\\x99s a Software Development Manager to Do? Discussions of security frequently come up in the Open Source Software development<a class=\"entry-more\" href=\"https://willingconsulting.com/security-at-the-seams/\">Read more</a></p>\\n          \\n                  </div>\\n\\n      </div>\\n\\n    </div>\\n\\n  </div>\\n\\n  </article>\\n              <article class=\"entry post-453 post type-post status-publish format-standard has-post-thumbnail hentry category-learn category-open-source category-python-2 category-uncategorized tag-decorators tag-online-python-tutor tag-phillip-guo tag-python tag-simplicity-2\" id=\"post-453\">\\n  <div class=\"entry-main\">\\n\\n          <a class=\"entry-thumbnail-link\" href=\"https://willingconsulting.com/decorators-visulized/\">\\n        <div class=\"entry-thumbnail hidpi-image\"\\n          data-src=\"https://willingconsulting.com/wp-content/uploads/2015/02/Screen-Shot-2015-02-18-at-06.35.33.png\"\\n          data-src-hidpi=\"https://willingconsulting.com/wp-content/uploads/2015/02/Screen-Shot-2015-02-18-at-06.35.33.png\"\\n          data-src-width=\"750\">\\n        </div>\\n      </a>\\n    \\n    <div class=\"layout-span entry-layout\">\\n\\n      <div class=\"layout-entry\">\\n\\n        <header class=\"entry-header\">\\n                      <div class=\"entry-meta\">\\n              \\n              <div class=\"entry-meta-item published-link\">\\n                <a href=\"https://willingconsulting.com/decorators-visulized/\" rel=\"bookmark\">\\n                  <time datetime=\"2015-02-18T06:30:35+00:00\">2015/02/18</time>\\n                </a>\\n              </div>\\n\\n                          </div>\\n          \\n                      <h1 class=\"entry-title\">\\n              <a href=\"https://willingconsulting.com/decorators-visulized/\">Decorators visualized</a>\\n            </h1>\\n                  </header>\\n\\n        <div class=\"entry-content layout-entry-content\">\\n                      <p>Decorators make code more readable. When learning how decorators work, it&#8217;s easy to get confused. When teaching decorators, students often ask &#8220;but how does it work&#8221; and &#8220;why does it work&#8221;. Magic, it just does, and follow the pattern of the example could be reasonable though less than satisfying responses. Online Python Tutor Learning to use\\xc2\\xa0decorators can be frustrating until the learner understands how decorators work. To build mastery, students want to visualize what the computer is doing when using<a class=\"entry-more\" href=\"https://willingconsulting.com/decorators-visulized/\">Read more</a></p>\\n          \\n                  </div>\\n\\n      </div>\\n\\n    </div>\\n\\n  </div>\\n\\n  </article>\\n            </main>\\n\\n      <nav class=\"navigation paging-navigation layout-span\" role=\"navigation\">\\n      <h1 class=\"screen-reader-text\">Posts navigation</h1>\\n      <div class=\"nav-links\">\\n\\n        \\n                <div class=\"nav-next\"><a href=\"https://willingconsulting.com/page/2/\" >Next Page <span class=\"meta-nav\">&rarr;</span></a></div>\\n        \\n      </div>\\n    </nav>\\n    </div>\\n\\n\\n<div class=\"widget-area\" id=\"secondary\" role=\"complementary\">\\n  <aside id=\"archives-6\" class=\"widget widget_archive\"><h1 class=\"widget-title\">Archives</h1>\\t\\t<ul>\\n\\t<li><a href=\\'https://willingconsulting.com/2015/06/\\'>June 2015</a></li>\\n\\t<li><a href=\\'https://willingconsulting.com/2015/03/\\'>March 2015</a></li>\\n\\t<li><a href=\\'https://willingconsulting.com/2015/02/\\'>February 2015</a></li>\\n\\t<li><a href=\\'https://willingconsulting.com/2015/01/\\'>January 2015</a></li>\\n\\t<li><a href=\\'https://willingconsulting.com/2014/07/\\'>July 2014</a></li>\\n\\t<li><a href=\\'https://willingconsulting.com/2014/06/\\'>June 2014</a></li>\\n\\t<li><a href=\\'https://willingconsulting.com/2014/03/\\'>March 2014</a></li>\\n\\t<li><a href=\\'https://willingconsulting.com/2014/02/\\'>February 2014</a></li>\\n\\t<li><a href=\\'https://willingconsulting.com/2013/12/\\'>December 2013</a></li>\\n\\t<li><a href=\\'https://willingconsulting.com/2013/10/\\'>October 2013</a></li>\\n\\t<li><a href=\\'https://willingconsulting.com/2013/09/\\'>September 2013</a></li>\\n\\t<li><a href=\\'https://willingconsulting.com/2013/08/\\'>August 2013</a></li>\\n\\t<li><a href=\\'https://willingconsulting.com/2013/03/\\'>March 2013</a></li>\\n\\t<li><a href=\\'https://willingconsulting.com/2013/02/\\'>February 2013</a></li>\\n\\t\\t</ul>\\n</aside><aside id=\"tag_cloud-3\" class=\"widget widget_tag_cloud\"><h1 class=\"widget-title\">Tags</h1><div class=\"tagcloud\"><a href=\\'https://willingconsulting.com/tag/3d-printing/\\' class=\\'tag-link-15\\' title=\\'2 topics\\' style=\\'font-size: 12.972972973px;\\'>3D printing</a>\\n<a href=\\'https://willingconsulting.com/tag/ada-initiative/\\' class=\\'tag-link-23\\' title=\\'3 topics\\' style=\\'font-size: 13.6216216216px;\\'>Ada Initiative</a>\\n<a href=\\'https://willingconsulting.com/tag/alasdair-allan/\\' class=\\'tag-link-40\\' title=\\'1 topic\\' style=\\'font-size: 12px;\\'>Alasdair Allan</a>\\n<a href=\\'https://willingconsulting.com/tag/arduino/\\' class=\\'tag-link-43\\' title=\\'1 topic\\' style=\\'font-size: 12px;\\'>Arduino</a>\\n<a href=\\'https://willingconsulting.com/tag/bohemian-gravity/\\' class=\\'tag-link-52\\' title=\\'1 topic\\' style=\\'font-size: 12px;\\'>bohemian gravity</a>\\n<a href=\\'https://willingconsulting.com/tag/candy-chang/\\' class=\\'tag-link-49\\' title=\\'1 topic\\' style=\\'font-size: 12px;\\'>candy chang</a>\\n<a href=\\'https://willingconsulting.com/tag/communication/\\' class=\\'tag-link-92\\' title=\\'2 topics\\' style=\\'font-size: 12.972972973px;\\'>communication</a>\\n<a href=\\'https://willingconsulting.com/tag/community/\\' class=\\'tag-link-53\\' title=\\'4 topics\\' style=\\'font-size: 14.1621621622px;\\'>community</a>\\n<a href=\\'https://willingconsulting.com/tag/create/\\' class=\\'tag-link-9\\' title=\\'1 topic\\' style=\\'font-size: 12px;\\'>create</a>\\n<a href=\\'https://willingconsulting.com/tag/distributed-network-data/\\' class=\\'tag-link-42\\' title=\\'1 topic\\' style=\\'font-size: 12px;\\'>Distributed Network Data</a>\\n<a href=\\'https://willingconsulting.com/tag/education/\\' class=\\'tag-link-26\\' title=\\'6 topics\\' style=\\'font-size: 14.972972973px;\\'>Education</a>\\n<a href=\\'https://willingconsulting.com/tag/edx/\\' class=\\'tag-link-19\\' title=\\'2 topics\\' style=\\'font-size: 12.972972973px;\\'>edX</a>\\n<a href=\\'https://willingconsulting.com/tag/first/\\' class=\\'tag-link-17\\' title=\\'1 topic\\' style=\\'font-size: 12px;\\'>FIRST</a>\\n<a href=\\'https://willingconsulting.com/tag/free/\\' class=\\'tag-link-28\\' title=\\'1 topic\\' style=\\'font-size: 12px;\\'>Free</a>\\n<a href=\\'https://willingconsulting.com/tag/future/\\' class=\\'tag-link-8\\' title=\\'3 topics\\' style=\\'font-size: 13.6216216216px;\\'>future</a>\\n<a href=\\'https://willingconsulting.com/tag/github/\\' class=\\'tag-link-21\\' title=\\'3 topics\\' style=\\'font-size: 13.6216216216px;\\'>GitHub</a>\\n<a href=\\'https://willingconsulting.com/tag/its-up-to-us/\\' class=\\'tag-link-34\\' title=\\'1 topic\\' style=\\'font-size: 12px;\\'>It\\'s Up to Us</a>\\n<a href=\\'https://willingconsulting.com/tag/kipp-bradford/\\' class=\\'tag-link-41\\' title=\\'1 topic\\' style=\\'font-size: 12px;\\'>Kipp Bradford</a>\\n<a href=\\'https://willingconsulting.com/tag/knowledge/\\' class=\\'tag-link-16\\' title=\\'1 topic\\' style=\\'font-size: 12px;\\'>knowledge</a>\\n<a href=\\'https://willingconsulting.com/tag/know-the-signs/\\' class=\\'tag-link-36\\' title=\\'1 topic\\' style=\\'font-size: 12px;\\'>Know the Signs</a>\\n<a href=\\'https://willingconsulting.com/tag/linuxcon/\\' class=\\'tag-link-45\\' title=\\'1 topic\\' style=\\'font-size: 12px;\\'>linuxcon</a>\\n<a href=\\'https://willingconsulting.com/tag/linuxcon-2013/\\' class=\\'tag-link-51\\' title=\\'1 topic\\' style=\\'font-size: 12px;\\'>linuxcon 2013</a>\\n<a href=\\'https://willingconsulting.com/tag/linux-plumbers-conference/\\' class=\\'tag-link-46\\' title=\\'1 topic\\' style=\\'font-size: 12px;\\'>linux plumbers conference</a>\\n<a href=\\'https://willingconsulting.com/tag/lulzbot/\\' class=\\'tag-link-14\\' title=\\'1 topic\\' style=\\'font-size: 12px;\\'>lulzbot</a>\\n<a href=\\'https://willingconsulting.com/tag/mental-health/\\' class=\\'tag-link-31\\' title=\\'1 topic\\' style=\\'font-size: 12px;\\'>Mental Health</a>\\n<a href=\\'https://willingconsulting.com/tag/mindfulness/\\' class=\\'tag-link-32\\' title=\\'1 topic\\' style=\\'font-size: 12px;\\'>Mindfulness</a>\\n<a href=\\'https://willingconsulting.com/tag/mit/\\' class=\\'tag-link-27\\' title=\\'2 topics\\' style=\\'font-size: 12.972972973px;\\'>MIT</a>\\n<a href=\\'https://willingconsulting.com/tag/mom/\\' class=\\'tag-link-7\\' title=\\'3 topics\\' style=\\'font-size: 13.6216216216px;\\'>mom</a>\\n<a href=\\'https://willingconsulting.com/tag/music/\\' class=\\'tag-link-48\\' title=\\'3 topics\\' style=\\'font-size: 13.6216216216px;\\'>Music</a>\\n<a href=\\'https://willingconsulting.com/tag/ocw/\\' class=\\'tag-link-30\\' title=\\'1 topic\\' style=\\'font-size: 12px;\\'>OCW</a>\\n<a href=\\'https://willingconsulting.com/tag/open-source-2/\\' class=\\'tag-link-13\\' title=\\'9 topics\\' style=\\'font-size: 15.7837837838px;\\'>open source</a>\\n<a href=\\'https://willingconsulting.com/tag/psf/\\' class=\\'tag-link-110\\' title=\\'2 topics\\' style=\\'font-size: 12.972972973px;\\'>psf</a>\\n<a href=\\'https://willingconsulting.com/tag/python/\\' class=\\'tag-link-62\\' title=\\'10 topics\\' style=\\'font-size: 16px;\\'>python</a>\\n<a href=\\'https://willingconsulting.com/tag/security/\\' class=\\'tag-link-78\\' title=\\'2 topics\\' style=\\'font-size: 12.972972973px;\\'>security</a>\\n<a href=\\'https://willingconsulting.com/tag/simplicity-2/\\' class=\\'tag-link-6\\' title=\\'4 topics\\' style=\\'font-size: 14.1621621622px;\\'>simplicity</a>\\n<a href=\\'https://willingconsulting.com/tag/suicide-prevention/\\' class=\\'tag-link-35\\' title=\\'1 topic\\' style=\\'font-size: 12px;\\'>Suicide Prevention</a>\\n<a href=\\'https://willingconsulting.com/tag/tea/\\' class=\\'tag-link-47\\' title=\\'1 topic\\' style=\\'font-size: 12px;\\'>tea</a>\\n<a href=\\'https://willingconsulting.com/tag/teamwork-2/\\' class=\\'tag-link-12\\' title=\\'3 topics\\' style=\\'font-size: 13.6216216216px;\\'>teamwork</a>\\n<a href=\\'https://willingconsulting.com/tag/tedx/\\' class=\\'tag-link-54\\' title=\\'1 topic\\' style=\\'font-size: 12px;\\'>tedx</a>\\n<a href=\\'https://willingconsulting.com/tag/the-hics/\\' class=\\'tag-link-50\\' title=\\'1 topic\\' style=\\'font-size: 12px;\\'>the hics</a>\\n<a href=\\'https://willingconsulting.com/tag/ucsd-center-for-mindfulness/\\' class=\\'tag-link-33\\' title=\\'1 topic\\' style=\\'font-size: 12px;\\'>UCSD Center for Mindfulness</a>\\n<a href=\\'https://willingconsulting.com/tag/women/\\' class=\\'tag-link-22\\' title=\\'4 topics\\' style=\\'font-size: 14.1621621622px;\\'>women</a>\\n<a href=\\'https://willingconsulting.com/tag/workforce-return/\\' class=\\'tag-link-29\\' title=\\'1 topic\\' style=\\'font-size: 12px;\\'>Workforce Return</a>\\n<a href=\\'https://willingconsulting.com/tag/xbee/\\' class=\\'tag-link-44\\' title=\\'1 topic\\' style=\\'font-size: 12px;\\'>XBee</a>\\n<a href=\\'https://willingconsulting.com/tag/xblock/\\' class=\\'tag-link-20\\' title=\\'1 topic\\' style=\\'font-size: 12px;\\'>Xblock</a></div>\\n</aside><aside id=\"pages-4\" class=\"widget widget_pages\"><h1 class=\"widget-title\">Site Pages</h1>\\t\\t<ul>\\n\\t\\t\\t<li class=\"page_item page-item-8 page_item_has_children\"><a href=\"https://willingconsulting.com/about/\">About</a>\\n<ul class=\\'children\\'>\\n\\t<li class=\"page_item page-item-534\"><a href=\"https://willingconsulting.com/about/bio/\">Bio</a></li>\\n\\t<li class=\"page_item page-item-265\"><a href=\"https://willingconsulting.com/about/education/\">Education</a></li>\\n\\t<li class=\"page_item page-item-205\"><a href=\"https://willingconsulting.com/about/professional-communities/\">Professional Communities</a></li>\\n</ul>\\n</li>\\n<li class=\"page_item page-item-221\"><a href=\"https://willingconsulting.com/consulting/\">Consulting</a></li>\\n<li class=\"page_item page-item-18\"><a href=\"https://willingconsulting.com/contact/\">Contact</a></li>\\n<li class=\"page_item page-item-207\"><a href=\"https://willingconsulting.com/events/\">Events</a></li>\\n<li class=\"page_item page-item-15\"><a href=\"https://willingconsulting.com/wow/\">Words</a></li>\\n\\t\\t</ul>\\n\\t\\t</aside></div>\\n\\n  </div><!-- #content -->\\n\\n  <footer class=\"site-footer layout-span\" id=\"colophon\" role=\"contentinfo\">\\n    <ul class=\"site-social\" role=\"menu\"><li title=\"Twitter\"><a href=\"https://twitter.com/willingcarol\" target=\"_blank\"><span>Twitter</span></a></li></ul>\\n    <div class=\"site-copyright\">&copy; Copyright 2015.</div>\\n\\n    <div class=\"site-credits\">\\n      <a href=\"http://wordpress.org/\">Proudly powered by WordPress</a>\\n      Theme: Bindery by <a href=\"http://pixelunion.net/\" rel=\"designer\">Pixel Union</a>.    </div>\\n  </footer>\\n</div>\\n\\n<script type=\\'text/javascript\\' src=\\'http://willingconsulting.com/wp-content/themes/bindery/js/vendor.js\\'></script>\\n<script type=\\'text/javascript\\' src=\\'http://willingconsulting.com/wp-content/themes/bindery/js/theme.js\\'></script>\\n\\n</body>\\n</html>\\n'\n"
     ]
    }
   ],
   "source": [
    "print(response.content)"
   ]
  },
  {
   "cell_type": "code",
   "execution_count": 2,
   "metadata": {
    "collapsed": false
   },
   "outputs": [],
   "source": [
    "from PIL import Image, ImageFilter\n",
    "\n",
    "pie = Image.open(\"piespot.jpg\")\n",
    "blurryPie = pie.filter(ImageFilter.GaussianBlur)\n",
    "blurryPie.save(\"pie_blurred.jpg\")\n",
    "blurryPie.show()"
   ]
  },
  {
   "cell_type": "code",
   "execution_count": 3,
   "metadata": {
    "collapsed": true
   },
   "outputs": [],
   "source": [
    "from PIL import Image, ImageFilter\n",
    "\n",
    "bird = Image.open(\"bird.jpg\")\n",
    "blurryBird = bird.filter(ImageFilter.GaussianBlur)\n",
    "blurryBird.save(\"bird_blurred.jpg\")\n",
    "blurryBird.show()"
   ]
  },
  {
   "cell_type": "code",
   "execution_count": 4,
   "metadata": {
    "collapsed": false
   },
   "outputs": [],
   "source": [
    "from PIL import Image, ImageOps\n",
    "\n",
    "bird = Image.open(\"bird.jpg\")\n",
    "upsideBird = ImageOps.flip(bird)\n",
    "upsideBird.save(\"bird_upside.jpg\")\n",
    "upsideBird.show()"
   ]
  },
  {
   "cell_type": "code",
   "execution_count": 47,
   "metadata": {
    "collapsed": true
   },
   "outputs": [],
   "source": [
    "from PIL import Image, ImageOps\n",
    "\n",
    "bird = Image.open(\"bird.jpg\")\n",
    "invertBird = ImageOps.invert(bird)\n",
    "invertBird.save(\"bird_invert.jpg\")\n",
    "invertBird.show()"
   ]
  },
  {
   "cell_type": "markdown",
   "metadata": {
    "collapsed": true
   },
   "source": [
    "SciPy\n",
    "NumPy\n",
    "pandas\n",
    "matplotlib"
   ]
  },
  {
   "cell_type": "code",
   "execution_count": 6,
   "metadata": {
    "collapsed": false
   },
   "outputs": [
    {
     "ename": "NameError",
     "evalue": "name 'x' is not defined",
     "output_type": "error",
     "traceback": [
      "\u001b[0;31m---------------------------------------------------------------------------\u001b[0m",
      "\u001b[0;31mNameError\u001b[0m                                 Traceback (most recent call last)",
      "\u001b[0;32m<ipython-input-6-1f39baaa0853>\u001b[0m in \u001b[0;36m<module>\u001b[0;34m()\u001b[0m\n\u001b[1;32m      4\u001b[0m \u001b[0msome_threshold\u001b[0m \u001b[0;34m=\u001b[0m \u001b[0;36m50\u001b[0m\u001b[0;34m\u001b[0m\u001b[0m\n\u001b[1;32m      5\u001b[0m \u001b[0;34m\u001b[0m\u001b[0m\n\u001b[0;32m----> 6\u001b[0;31m \u001b[0mc\u001b[0m \u001b[0;34m=\u001b[0m \u001b[0mx\u001b[0m \u001b[0;34m+\u001b[0m \u001b[0;36m1j\u001b[0m\u001b[0;34m*\u001b[0m\u001b[0my\u001b[0m\u001b[0;34m\u001b[0m\u001b[0m\n\u001b[0m\u001b[1;32m      7\u001b[0m \u001b[0;34m\u001b[0m\u001b[0m\n\u001b[1;32m      8\u001b[0m \u001b[0;32mfor\u001b[0m \u001b[0mj\u001b[0m \u001b[0;32min\u001b[0m \u001b[0mxrange\u001b[0m\u001b[0;34m(\u001b[0m\u001b[0mN_max\u001b[0m\u001b[0;34m)\u001b[0m\u001b[0;34m:\u001b[0m\u001b[0;34m\u001b[0m\u001b[0m\n",
      "\u001b[0;31mNameError\u001b[0m: name 'x' is not defined"
     ]
    }
   ],
   "source": [
    "import numpy\n",
    "# mandlebrot\n",
    "N_max = 50\n",
    "some_threshold = 50\n",
    "\n",
    "c = x + 1j*y\n",
    "\n",
    "for j in xrange(N_max):\n",
    "    z = z**2 + c"
   ]
  },
  {
   "cell_type": "code",
   "execution_count": null,
   "metadata": {
    "collapsed": true
   },
   "outputs": [],
   "source": []
  }
 ],
 "metadata": {
  "kernelspec": {
   "display_name": "Python 3",
   "language": "python",
   "name": "python3"
  },
  "language_info": {
   "codemirror_mode": {
    "name": "ipython",
    "version": 3
   },
   "file_extension": ".py",
   "mimetype": "text/x-python",
   "name": "python",
   "nbconvert_exporter": "python",
   "pygments_lexer": "ipython3",
   "version": "3.4.3"
  }
 },
 "nbformat": 4,
 "nbformat_minor": 0
}
